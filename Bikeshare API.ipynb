{
 "cells": [
  {
   "cell_type": "markdown",
   "id": "62480ff6-d08f-4fbf-b4b7-a4d272c75fcb",
   "metadata": {},
   "source": [
    "Import Libraries"
   ]
  },
  {
   "cell_type": "code",
   "execution_count": 16,
   "id": "ee5b7119-68ca-4c52-aef2-7e55ae1e7b0c",
   "metadata": {},
   "outputs": [],
   "source": [
    "import sqlite3\n",
    "import requests\n",
    "from tqdm import tqdm\n",
    "\n",
    "from flask import Flask, request\n",
    "import json \n",
    "import numpy as np\n",
    "import pandas as pd"
   ]
  },
  {
   "cell_type": "markdown",
   "id": "86774391-698b-41d4-a2fa-c9943a8e1ded",
   "metadata": {},
   "source": [
    "# Introduction\n",
    "In most cases when we are running a business, there are a lot of data stakeholder outside our company. The problem is that we need to provide the access in a way that they will not break our security rules or concerns. One way to solve that is by creating an API for the database. In this project, we will introduce you on how python is used for data transaction management using Flask API. \n",
    "\n",
    "**Usecase**: Bikeshare App\\\n",
    "Have you ever rent a bike for faster mobility in town? In the past few years, this business once become a phenomenom. In Indonesia, there are lots of similar services, for example, the Jakarta government's \"GOWES\" bike sharing service that launcehd in July 2020. \n",
    "\n",
    "For the user perspective, the general journey is denoted as follows:\n",
    "- User scan the bike located at some bike station, sending the data to database as the intent of \"start riding\"\n",
    "- Once user has reached its destination station, he/she put back the bike, sending the data again to the database as the intent of \"finished riding\"\n",
    "\n",
    "For each activity, there are data transactions between user and database. And how do you think each user's phone communicate with the server for storing and receiving the data? Using API ofcourse! \n",
    "\n",
    "We will later create a simplified version of the API service which handles data transactions and analysis. \n",
    "\n",
    "\n",
    "**Goals**: Make an API service to connect 3rd party user with data using HTTP request\n",
    "\n",
    "**End Product**: A Flask API which capable of doing: \n",
    "- Input new data to database\n",
    "- Read specific data from database\n",
    "- Get specific insight from data analysis process (ie: best performing stations)\n",
    "\n",
    "**Scoring Metrics**: \n",
    "\n",
    "1. 1 point - Created Flask App\n",
    "\n",
    "-  create app.py file to make flask app\n",
    "-  create Flask app to execute all of the endpoint you have made\n",
    "\n",
    "2. 2 points - Created functionality to read or get specific data from the database\n",
    "\n",
    "- create query to read data from database\n",
    "- create function to execute read specific information into table from database\n",
    "\n",
    "3. 4 points - Created functionality to input new data into each table for the databases\n",
    "\n",
    "- create query to insert new data into stations and trips table\n",
    "- create function to execute input data into stations and trips table\n",
    "\n",
    "4. 3 points - Created static endpoints which return analytical result (must be different from point 2,3)\n",
    "\n",
    "- create query to make analytical resultfrom the data\n",
    "- create static endpoint to analyze the data from database, for example average trip durations\n",
    "    \n",
    "5. 3 points - Created dynamic endpoints which return analytical result (must be different from point 2,3,4)\n",
    "\n",
    "- create query to make analytical resultfrom the data\n",
    "- create dinamic endpoint to analyze the data from database, for example average trip durations for each bike_id\n",
    "\n",
    "6. 3 points - Created POST endpoint which receive input data, then utilize it to get analytical result (must be different from point 2,3,4,5)\n",
    "\n",
    "- create input data for refering into query for post endpoint\n",
    "- make query and aggregation function to implement the input\n",
    "\n",
    "**Tools**: \n",
    "- **Python** with **Jupyter Notebook**, installed with **required libraries**\n",
    "- **Visual Studio Code (VSCode)**: Recommended for writing application scripts\n",
    "- **TablePlus**: Recommended for easy database access and exploration\n",
    "- Postman: Optional for easy API testing\n"
   ]
  },
  {
   "cell_type": "markdown",
   "id": "7f0d31b3-764f-4d0a-941d-443c5a502e1f",
   "metadata": {},
   "source": [
    "# About the Data"
   ]
  },
  {
   "cell_type": "markdown",
   "id": "89ec6608-cf50-4f15-993c-99f186ece82c",
   "metadata": {},
   "source": [
    "The data that we will be using in this project is **[Austin Bike Share]()** dataset which contains information on bike trip start location, stop location, duration, type of bike share user in the city of Austin, Texas. Bike station location data is also provided. \n",
    "\n",
    "All the information is stored in a database called **austin_bikeshare.db**. However, we also provides the non existing data in csv files. These data then will be imported into the database using the API"
   ]
  },
  {
   "cell_type": "markdown",
   "id": "3c4833d3-015d-4f4a-b00d-21e00af777fc",
   "metadata": {},
   "source": [
    "Lists of files:\n",
    "- **austin_bikeshare.db**: The database, contains `trips` and `stations` table\n",
    "- **data/austin_bikeshare_stations.csv**: contains all the stations information which is not yet available in the database table\n",
    "- **data/austin_bikeshare_trips_2021.csv**: contains all 2021 data which is not yet available in the database table"
   ]
  },
  {
   "cell_type": "code",
   "execution_count": 17,
   "id": "52e3d146-1a21-4b1a-9ffc-817f4f084375",
   "metadata": {},
   "outputs": [],
   "source": [
    "# Reading the csv data\n",
    "trips = pd.read_csv('data/austin_bikeshare_trips_2021.csv')\n",
    "stations = pd.read_csv('data/austin_bikeshare_stations.csv')"
   ]
  },
  {
   "cell_type": "markdown",
   "id": "60bb1c45-5b3d-4987-beb7-7aafaa6b4609",
   "metadata": {},
   "source": [
    "## Taking a look for trips data\n",
    "`trips` table in database, or `austin_bikeshare_trips.csv` in original files. It roughly consisted of 1.3 million rows"
   ]
  },
  {
   "cell_type": "code",
   "execution_count": 18,
   "id": "69039e08-e759-4950-9253-3ad44c59cddf",
   "metadata": {},
   "outputs": [
    {
     "data": {
      "text/html": [
       "<div>\n",
       "<style scoped>\n",
       "    .dataframe tbody tr th:only-of-type {\n",
       "        vertical-align: middle;\n",
       "    }\n",
       "\n",
       "    .dataframe tbody tr th {\n",
       "        vertical-align: top;\n",
       "    }\n",
       "\n",
       "    .dataframe thead th {\n",
       "        text-align: right;\n",
       "    }\n",
       "</style>\n",
       "<table border=\"1\" class=\"dataframe\">\n",
       "  <thead>\n",
       "    <tr style=\"text-align: right;\">\n",
       "      <th></th>\n",
       "      <th>trip_id</th>\n",
       "      <th>subscriber_type</th>\n",
       "      <th>bikeid</th>\n",
       "      <th>start_time</th>\n",
       "      <th>start_station_id</th>\n",
       "      <th>start_station_name</th>\n",
       "      <th>end_station_id</th>\n",
       "      <th>end_station_name</th>\n",
       "      <th>duration_minutes</th>\n",
       "    </tr>\n",
       "  </thead>\n",
       "  <tbody>\n",
       "    <tr>\n",
       "      <th>0</th>\n",
       "      <td>23455589</td>\n",
       "      <td>Local365</td>\n",
       "      <td>174</td>\n",
       "      <td>2021-01-26 17:47:42 UTC</td>\n",
       "      <td>4059.0</td>\n",
       "      <td>Nash Hernandez/East @ RBJ South</td>\n",
       "      <td>3660.0</td>\n",
       "      <td>East 6th/Medina</td>\n",
       "      <td>7</td>\n",
       "    </tr>\n",
       "    <tr>\n",
       "      <th>1</th>\n",
       "      <td>23459960</td>\n",
       "      <td>Local365</td>\n",
       "      <td>19265</td>\n",
       "      <td>2021-01-28 08:03:52 UTC</td>\n",
       "      <td>4054.0</td>\n",
       "      <td>Rosewood/Chicon</td>\n",
       "      <td>4055.0</td>\n",
       "      <td>11th/Salina</td>\n",
       "      <td>16</td>\n",
       "    </tr>\n",
       "  </tbody>\n",
       "</table>\n",
       "</div>"
      ],
      "text/plain": [
       "    trip_id subscriber_type bikeid               start_time  start_station_id   \n",
       "0  23455589        Local365    174  2021-01-26 17:47:42 UTC            4059.0  \\\n",
       "1  23459960        Local365  19265  2021-01-28 08:03:52 UTC            4054.0   \n",
       "\n",
       "                start_station_name  end_station_id end_station_name   \n",
       "0  Nash Hernandez/East @ RBJ South          3660.0  East 6th/Medina  \\\n",
       "1                  Rosewood/Chicon          4055.0     11th/Salina    \n",
       "\n",
       "   duration_minutes  \n",
       "0                 7  \n",
       "1                16  "
      ]
     },
     "execution_count": 18,
     "metadata": {},
     "output_type": "execute_result"
    }
   ],
   "source": [
    "trips.head(2)"
   ]
  },
  {
   "cell_type": "markdown",
   "id": "01ee13e1-1110-45fe-8831-1bf7604d6f87",
   "metadata": {},
   "source": [
    "**Data Descriptions**:\n",
    "- `bikeid`: integer id of bike\n",
    "- `checkout_time`: HH:MM:SS, see start time for date stamp\n",
    "- `duration_minutes`: int minutes of trip duration\n",
    "- `endstationid`: integer id of end station\n",
    "- `endstationname`: string of end station name\n",
    "- `month`: month, integer\n",
    "- `startstationid`: integer id of start station\n",
    "- `startstationname`: string of start station name\n",
    "- `start_time`: YYYY-MM-DD HH:MM:SS\n",
    "- `subscriber_type`: membership typ e.g. walk up, annual, other bike share, etc\n",
    "- `trip_id`: unique trip id int\n",
    "- `year`: year of trip, int"
   ]
  },
  {
   "cell_type": "markdown",
   "id": "44fd2bdd-a1e9-4734-b7a7-8ddc8f3ee0e2",
   "metadata": {},
   "source": [
    "## Taking a look for stations data\n",
    "`stations` table in database, or `austin_bikeshare_stations.csv` in original files "
   ]
  },
  {
   "cell_type": "code",
   "execution_count": 19,
   "id": "de5298bf-64a9-4565-a83d-ce1f4d1f4403",
   "metadata": {},
   "outputs": [
    {
     "data": {
      "text/html": [
       "<div>\n",
       "<style scoped>\n",
       "    .dataframe tbody tr th:only-of-type {\n",
       "        vertical-align: middle;\n",
       "    }\n",
       "\n",
       "    .dataframe tbody tr th {\n",
       "        vertical-align: top;\n",
       "    }\n",
       "\n",
       "    .dataframe thead th {\n",
       "        text-align: right;\n",
       "    }\n",
       "</style>\n",
       "<table border=\"1\" class=\"dataframe\">\n",
       "  <thead>\n",
       "    <tr style=\"text-align: right;\">\n",
       "      <th></th>\n",
       "      <th>station_id</th>\n",
       "      <th>name</th>\n",
       "      <th>status</th>\n",
       "      <th>address</th>\n",
       "      <th>alternate_name</th>\n",
       "      <th>city_asset_number</th>\n",
       "      <th>property_type</th>\n",
       "      <th>number_of_docks</th>\n",
       "      <th>power_type</th>\n",
       "      <th>footprint_length</th>\n",
       "      <th>footprint_width</th>\n",
       "      <th>notes</th>\n",
       "      <th>council_district</th>\n",
       "      <th>modified_date</th>\n",
       "    </tr>\n",
       "  </thead>\n",
       "  <tbody>\n",
       "    <tr>\n",
       "      <th>96</th>\n",
       "      <td>3795</td>\n",
       "      <td>Dean Keeton &amp; Whitis</td>\n",
       "      <td>active</td>\n",
       "      <td>300 W. Dean Keeton St.</td>\n",
       "      <td>NaN</td>\n",
       "      <td>32671.0</td>\n",
       "      <td>undetermined_parking</td>\n",
       "      <td>19.0</td>\n",
       "      <td>solar</td>\n",
       "      <td>55.0</td>\n",
       "      <td>5.0</td>\n",
       "      <td>NaN</td>\n",
       "      <td>9</td>\n",
       "      <td>2021-01-04T12:00:00Z</td>\n",
       "    </tr>\n",
       "    <tr>\n",
       "      <th>97</th>\n",
       "      <td>3797</td>\n",
       "      <td>21st &amp; University</td>\n",
       "      <td>active</td>\n",
       "      <td>2007 University Ave.</td>\n",
       "      <td>NaN</td>\n",
       "      <td>32674.0</td>\n",
       "      <td>undetermined_parking</td>\n",
       "      <td>19.0</td>\n",
       "      <td>solar</td>\n",
       "      <td>55.0</td>\n",
       "      <td>5.0</td>\n",
       "      <td>ROW might belong to UT</td>\n",
       "      <td>9</td>\n",
       "      <td>2021-01-04T12:00:00Z</td>\n",
       "    </tr>\n",
       "  </tbody>\n",
       "</table>\n",
       "</div>"
      ],
      "text/plain": [
       "    station_id                  name  status                 address   \n",
       "96        3795  Dean Keeton & Whitis  active  300 W. Dean Keeton St.  \\\n",
       "97        3797     21st & University  active    2007 University Ave.   \n",
       "\n",
       "   alternate_name  city_asset_number         property_type  number_of_docks   \n",
       "96            NaN            32671.0  undetermined_parking             19.0  \\\n",
       "97            NaN            32674.0  undetermined_parking             19.0   \n",
       "\n",
       "   power_type  footprint_length  footprint_width                   notes   \n",
       "96      solar              55.0              5.0                     NaN  \\\n",
       "97      solar              55.0              5.0  ROW might belong to UT   \n",
       "\n",
       "    council_district         modified_date  \n",
       "96                 9  2021-01-04T12:00:00Z  \n",
       "97                 9  2021-01-04T12:00:00Z  "
      ]
     },
     "execution_count": 19,
     "metadata": {},
     "output_type": "execute_result"
    }
   ],
   "source": [
    "stations.tail(2)"
   ]
  },
  {
   "cell_type": "markdown",
   "id": "fb167853-53c1-4bd5-aea4-3bcf0d0cba5e",
   "metadata": {},
   "source": [
    "**stations table (or austin_bikeshare_trips.csv)**:\n",
    "- `station_id`: integer id of station\n",
    "- `name`: string of station name\n",
    "- `status`: string of station status (active, closed, moved, ACL-only)\n",
    "- `address`: string of station address\n",
    "- `alternate_name`: string of station alternative name\n",
    "- `city_asset_number`: integer of station's asset number\n",
    "- `property_type`: string of station's property type\n",
    "- `number_of_docks`: integer of number of available bike docks\n",
    "- `power_type`: string of station's power source type\n",
    "- `footprint_length`: float of station' blueprint length (size of the station). Probably in meters\n",
    "- `footprint_width`: float of station' blueprint width (size of the station). Probably in meters\n",
    "- `notes`: string of additional notes\n",
    "- `council_district`: integer of stations's council district\n",
    "- `modified_date`: date of last modified information regarding the station"
   ]
  },
  {
   "cell_type": "markdown",
   "id": "c424d7fc-0fe4-4010-959f-d030c825abc5",
   "metadata": {},
   "source": [
    "# Database"
   ]
  },
  {
   "cell_type": "markdown",
   "id": "c8ab9b50-dc5c-431a-a01e-b32bf0a10709",
   "metadata": {},
   "source": [
    "The first important task is to make sure we can securely make connections to the database. In this scenario, we will connect to sqlite database, `austin_bikeshare.db` via python. In this part, we will re-visit on how to work with databases, started with making a connection, get some data, and insert data into it. \n",
    "\n",
    "You can directly connect and view the database using TablePlus, or run the following code to create the connection"
   ]
  },
  {
   "cell_type": "code",
   "execution_count": 20,
   "id": "bbaec86f-2ce8-48d2-b37c-d949e53d18ce",
   "metadata": {},
   "outputs": [],
   "source": [
    "# Define a function to create connection for reusability purpose\n",
    "def make_connection():\n",
    "    connection = sqlite3.connect('austin_bikeshare.db')\n",
    "    return connection\n",
    "\n",
    "# Make a connection\n",
    "conn = make_connection()"
   ]
  },
  {
   "cell_type": "code",
   "execution_count": 21,
   "id": "8d05a2b6",
   "metadata": {},
   "outputs": [
    {
     "data": {
      "text/plain": [
       "<sqlite3.Connection at 0x2153e0d8a40>"
      ]
     },
     "execution_count": 21,
     "metadata": {},
     "output_type": "execute_result"
    }
   ],
   "source": [
    "conn"
   ]
  },
  {
   "cell_type": "markdown",
   "id": "63da1e43-7bea-473c-9b7e-f9b86e13a8ec",
   "metadata": {},
   "source": [
    "## POST: Insert data into database\n",
    "\n",
    "Generally, POST method will utilize the data sent by user for specific purporse, for example: \n",
    "\n",
    "- Insert new data into the database. \n",
    "- Operate the data into some function"
   ]
  },
  {
   "cell_type": "markdown",
   "id": "27d0a87a-a3cf-4a38-85bb-3036718f2e62",
   "metadata": {},
   "source": [
    "We will learn how to insert data into a specific table in our database. Please refer to the following code to create and run the query for the given task"
   ]
  },
  {
   "cell_type": "code",
   "execution_count": null,
   "id": "34c3f21c",
   "metadata": {},
   "outputs": [],
   "source": []
  },
  {
   "cell_type": "code",
   "execution_count": 22,
   "id": "1d200cd0-8a48-4b45-800c-c39c25bafcb4",
   "metadata": {},
   "outputs": [],
   "source": [
    "# Get the data values\n",
    "data = tuple(stations.iloc[21].fillna('').values)\n",
    "\n",
    "# Make the query\n",
    "query = f\"\"\"\n",
    "INSERT INTO stations\n",
    "VALUES {data}\n",
    "\"\"\""
   ]
  },
  {
   "cell_type": "code",
   "execution_count": 23,
   "id": "1bf0754c-9cea-4d62-b870-1323bb2f7c1b",
   "metadata": {},
   "outputs": [
    {
     "name": "stdout",
     "output_type": "stream",
     "text": [
      "\n",
      "INSERT INTO stations\n",
      "VALUES (3687, 'Boardwalk West', 'active', '300 E. Riverside Dr.', '', 16683.0, 'parkland', 9.0, 'solar', 30.0, 5.0, '', 9, '2021-01-04T12:00:00Z')\n",
      "\n"
     ]
    }
   ],
   "source": [
    "# See the actual query looks like\n",
    "print(query)"
   ]
  },
  {
   "cell_type": "code",
   "execution_count": null,
   "id": "7c5c2d27-93ee-48a2-8228-d54c26b6f3da",
   "metadata": {},
   "outputs": [],
   "source": [
    "# Execute the query \n",
    "conn.execute(query)"
   ]
  },
  {
   "cell_type": "code",
   "execution_count": null,
   "id": "3b35411a-c2bd-4a20-9663-50356ce74f7c",
   "metadata": {},
   "outputs": [],
   "source": [
    "# Commit changes to database\n",
    "conn.commit()"
   ]
  },
  {
   "cell_type": "markdown",
   "id": "433e02eb-4244-4bf9-8cd6-2f65da183431",
   "metadata": {},
   "source": [
    "Once the code above succesful, it's recomended to wrap it into a function so that we can reuse it in the future. Complete the following codes to make the function:"
   ]
  },
  {
   "cell_type": "code",
   "execution_count": 49,
   "id": "604b25b8-66f9-4707-a092-a945023133cc",
   "metadata": {},
   "outputs": [],
   "source": [
    "def insert_into_stations(data, conn):\n",
    "    query = f\"\"\"INSERT INTO stations values {data}\"\"\"\n",
    "    try:\n",
    "        conn.execute(query)\n",
    "    except:\n",
    "        return 'Error'\n",
    "    conn.commit()\n",
    "    return 'OK'"
   ]
  },
  {
   "cell_type": "code",
   "execution_count": 50,
   "id": "97b6ec11-9394-4b27-8203-4892c79cfbc5",
   "metadata": {},
   "outputs": [],
   "source": [
    "# Example use of the function \n",
    "conn = make_connection()\n",
    "data = tuple(stations.iloc[5].fillna('').values) # Randomly select a data\n",
    "result = insert_into_stations(data, conn)"
   ]
  },
  {
   "cell_type": "code",
   "execution_count": null,
   "id": "513c8720",
   "metadata": {},
   "outputs": [],
   "source": [
    "result"
   ]
  },
  {
   "cell_type": "markdown",
   "id": "d9beafb2-ee93-4532-a0f9-b10ac56a6835",
   "metadata": {},
   "source": [
    "**TASK: Create a Function to insert data for `trips` table**"
   ]
  },
  {
   "cell_type": "code",
   "execution_count": 24,
   "id": "78b91955",
   "metadata": {},
   "outputs": [
    {
     "data": {
      "text/plain": [
       "(23455589,\n",
       " 'Local365',\n",
       " '174',\n",
       " '2021-01-26 17:47:42 UTC',\n",
       " 4059.0,\n",
       " 'Nash Hernandez/East @ RBJ South',\n",
       " 3660.0,\n",
       " 'East 6th/Medina',\n",
       " 7)"
      ]
     },
     "execution_count": 24,
     "metadata": {},
     "output_type": "execute_result"
    }
   ],
   "source": [
    "data2 = trips.iloc[0]\n",
    "tuple(data2.values)"
   ]
  },
  {
   "cell_type": "code",
   "execution_count": 25,
   "id": "9b60a485",
   "metadata": {},
   "outputs": [],
   "source": [
    "# Get the data values\n",
    "data2 = tuple(trips.iloc[0].fillna('').values)\n",
    "\n",
    "# Make the query\n",
    "query = f\"\"\"\n",
    "INSERT INTO trips\n",
    "VALUES {data2}\n",
    "\"\"\""
   ]
  },
  {
   "cell_type": "code",
   "execution_count": 26,
   "id": "7fb55cc0",
   "metadata": {},
   "outputs": [
    {
     "name": "stdout",
     "output_type": "stream",
     "text": [
      "\n",
      "INSERT INTO trips\n",
      "VALUES (23455589, 'Local365', '174', '2021-01-26 17:47:42 UTC', 4059.0, 'Nash Hernandez/East @ RBJ South', 3660.0, 'East 6th/Medina', 7)\n",
      "\n"
     ]
    }
   ],
   "source": [
    "# See the actual query looks like\n",
    "print(query)"
   ]
  },
  {
   "cell_type": "code",
   "execution_count": null,
   "id": "3e6c6d7c",
   "metadata": {},
   "outputs": [],
   "source": [
    "# Execute the query \n",
    "conn.execute(query)"
   ]
  },
  {
   "cell_type": "code",
   "execution_count": 28,
   "id": "f7233d55",
   "metadata": {},
   "outputs": [],
   "source": [
    "# Commit changes to database\n",
    "conn.commit()"
   ]
  },
  {
   "cell_type": "code",
   "execution_count": 29,
   "id": "91f59de5",
   "metadata": {},
   "outputs": [],
   "source": [
    "def insert_into_trips(data2, conn):\n",
    "    query = f\"\"\"INSERT INTO trips values {data2}\"\"\"\n",
    "    try:\n",
    "        conn.execute(query)\n",
    "    except:\n",
    "        return 'Error'\n",
    "    conn.commit()\n",
    "    return 'OK'"
   ]
  },
  {
   "cell_type": "code",
   "execution_count": 30,
   "id": "0ba7d15f",
   "metadata": {},
   "outputs": [],
   "source": [
    "# Example use of the function \n",
    "conn = make_connection()\n",
    "data2 = tuple(trips.iloc[1].fillna('').values) # Randomly select a data\n",
    "result = insert_into_trips(data2, conn)"
   ]
  },
  {
   "cell_type": "code",
   "execution_count": null,
   "id": "eb97b28c",
   "metadata": {},
   "outputs": [],
   "source": [
    "result"
   ]
  },
  {
   "cell_type": "markdown",
   "id": "72c93934-9c7e-495e-8613-9a5e73833577",
   "metadata": {},
   "source": [
    "## GET: Read specific data"
   ]
  },
  {
   "cell_type": "markdown",
   "id": "f2486c61-a982-4d9f-831f-1fa77a21a417",
   "metadata": {},
   "source": [
    "Generally, GET method will ask for specific the data in the database, alongside with additional information we might send. For example: \n",
    "- Get number of unique user\n",
    "- Get full trips information for specific user id\n",
    "- Get average trips duration and length for specific user id\n",
    "\n",
    "In this example, we will implement the most basic GET method, that is to get Station information in the table based on specific Station ID"
   ]
  },
  {
   "cell_type": "code",
   "execution_count": null,
   "id": "09b1e8f2-fc04-4c06-a23e-d31a93f65ccd",
   "metadata": {},
   "outputs": [],
   "source": [
    "# Get Specific Station ID  Query\n",
    "station_id = 2500\n",
    "query_station_id = f\"\"\"\n",
    "SELECT * FROM stations\n",
    "WHERE station_id = {station_id}\n",
    "\"\"\"\n",
    "\n",
    "# Get all station ID Query\n",
    "query_station_all = \"SELECT * FROM stations\""
   ]
  },
  {
   "cell_type": "code",
   "execution_count": null,
   "id": "c4e317b7",
   "metadata": {},
   "outputs": [],
   "source": [
    "print(query_station_id)"
   ]
  },
  {
   "cell_type": "code",
   "execution_count": null,
   "id": "2b014e89-f857-4e18-9607-2b7d6139a1de",
   "metadata": {},
   "outputs": [],
   "source": [
    "# Run the query and get the result\n",
    "result = pd.read_sql_query(query_station_all, conn)"
   ]
  },
  {
   "cell_type": "code",
   "execution_count": null,
   "id": "5c7a54ab-e979-4c1c-b27c-60e501cb3733",
   "metadata": {},
   "outputs": [],
   "source": [
    "result"
   ]
  },
  {
   "cell_type": "markdown",
   "id": "4e589298-cbb0-4720-8275-7f09c18a9cca",
   "metadata": {},
   "source": [
    "Just like the previous section, create a function to read specific station"
   ]
  },
  {
   "cell_type": "code",
   "execution_count": 52,
   "id": "697114ad-0305-4d98-8cad-fa384be07e6b",
   "metadata": {},
   "outputs": [],
   "source": [
    "def get_station_id(station_id, conn):\n",
    "    query = f\"\"\"SELECT * FROM stations WHERE station_id = {station_id}\"\"\"\n",
    "    result = pd.read_sql_query(query, conn)\n",
    "    return result \n",
    "\n",
    "def get_all_stations(conn):\n",
    "    query = f\"\"\"SELECT * FROM stations\"\"\"\n",
    "    result = pd.read_sql_query(query, conn)\n",
    "    return result"
   ]
  },
  {
   "cell_type": "code",
   "execution_count": 53,
   "id": "ed24a2e8",
   "metadata": {},
   "outputs": [
    {
     "data": {
      "text/html": [
       "<div>\n",
       "<style scoped>\n",
       "    .dataframe tbody tr th:only-of-type {\n",
       "        vertical-align: middle;\n",
       "    }\n",
       "\n",
       "    .dataframe tbody tr th {\n",
       "        vertical-align: top;\n",
       "    }\n",
       "\n",
       "    .dataframe thead th {\n",
       "        text-align: right;\n",
       "    }\n",
       "</style>\n",
       "<table border=\"1\" class=\"dataframe\">\n",
       "  <thead>\n",
       "    <tr style=\"text-align: right;\">\n",
       "      <th></th>\n",
       "      <th>station_id</th>\n",
       "      <th>name</th>\n",
       "      <th>status</th>\n",
       "      <th>address</th>\n",
       "      <th>alternate_name</th>\n",
       "      <th>city_asset_number</th>\n",
       "      <th>property_type</th>\n",
       "      <th>number_of_docks</th>\n",
       "      <th>power_type</th>\n",
       "      <th>footprint_length</th>\n",
       "      <th>footprint_width</th>\n",
       "      <th>notes</th>\n",
       "      <th>council_district</th>\n",
       "      <th>modified_date</th>\n",
       "    </tr>\n",
       "  </thead>\n",
       "  <tbody>\n",
       "    <tr>\n",
       "      <th>0</th>\n",
       "      <td>2500</td>\n",
       "      <td>Republic Square</td>\n",
       "      <td>closed</td>\n",
       "      <td>425 W 4th Street</td>\n",
       "      <td></td>\n",
       "      <td></td>\n",
       "      <td></td>\n",
       "      <td></td>\n",
       "      <td></td>\n",
       "      <td></td>\n",
       "      <td></td>\n",
       "      <td></td>\n",
       "      <td>9</td>\n",
       "      <td>2021-01-04T12:00:00Z</td>\n",
       "    </tr>\n",
       "  </tbody>\n",
       "</table>\n",
       "</div>"
      ],
      "text/plain": [
       "   station_id             name  status           address alternate_name   \n",
       "0        2500  Republic Square  closed  425 W 4th Street                 \\\n",
       "\n",
       "  city_asset_number property_type number_of_docks power_type footprint_length   \n",
       "0                                                                              \\\n",
       "\n",
       "  footprint_width notes  council_district         modified_date  \n",
       "0                                       9  2021-01-04T12:00:00Z  "
      ]
     },
     "execution_count": 53,
     "metadata": {},
     "output_type": "execute_result"
    }
   ],
   "source": [
    "get_station_id(2500,conn)"
   ]
  },
  {
   "cell_type": "markdown",
   "id": "d4d9eae2-06d8-4fed-a14b-adb32a3fbe1d",
   "metadata": {},
   "source": [
    "**TASK: Create a Function to read data from `trips` table**"
   ]
  },
  {
   "cell_type": "code",
   "execution_count": 54,
   "id": "68d7132b",
   "metadata": {},
   "outputs": [
    {
     "data": {
      "text/html": [
       "<div>\n",
       "<style scoped>\n",
       "    .dataframe tbody tr th:only-of-type {\n",
       "        vertical-align: middle;\n",
       "    }\n",
       "\n",
       "    .dataframe tbody tr th {\n",
       "        vertical-align: top;\n",
       "    }\n",
       "\n",
       "    .dataframe thead th {\n",
       "        text-align: right;\n",
       "    }\n",
       "</style>\n",
       "<table border=\"1\" class=\"dataframe\">\n",
       "  <thead>\n",
       "    <tr style=\"text-align: right;\">\n",
       "      <th></th>\n",
       "      <th>station_id</th>\n",
       "      <th>name</th>\n",
       "      <th>status</th>\n",
       "      <th>address</th>\n",
       "      <th>alternate_name</th>\n",
       "      <th>city_asset_number</th>\n",
       "      <th>property_type</th>\n",
       "      <th>number_of_docks</th>\n",
       "      <th>power_type</th>\n",
       "      <th>footprint_length</th>\n",
       "      <th>footprint_width</th>\n",
       "      <th>notes</th>\n",
       "      <th>council_district</th>\n",
       "      <th>modified_date</th>\n",
       "    </tr>\n",
       "  </thead>\n",
       "  <tbody>\n",
       "    <tr>\n",
       "      <th>0</th>\n",
       "      <td>2500</td>\n",
       "      <td>Republic Square</td>\n",
       "      <td>closed</td>\n",
       "      <td>425 W 4th Street</td>\n",
       "      <td></td>\n",
       "      <td></td>\n",
       "      <td></td>\n",
       "      <td></td>\n",
       "      <td></td>\n",
       "      <td></td>\n",
       "      <td></td>\n",
       "      <td></td>\n",
       "      <td>9</td>\n",
       "      <td>2021-01-04T12:00:00Z</td>\n",
       "    </tr>\n",
       "    <tr>\n",
       "      <th>1</th>\n",
       "      <td>2546</td>\n",
       "      <td>ACC - West &amp; 12th Street</td>\n",
       "      <td>closed</td>\n",
       "      <td>1231 West Ave.</td>\n",
       "      <td></td>\n",
       "      <td></td>\n",
       "      <td></td>\n",
       "      <td></td>\n",
       "      <td></td>\n",
       "      <td></td>\n",
       "      <td></td>\n",
       "      <td></td>\n",
       "      <td>9</td>\n",
       "      <td>2021-01-04T12:00:00Z</td>\n",
       "    </tr>\n",
       "    <tr>\n",
       "      <th>2</th>\n",
       "      <td>2550</td>\n",
       "      <td>Republic Square @ Guadalupe &amp; 4th St.</td>\n",
       "      <td>closed</td>\n",
       "      <td>Presented by Austin Ventures</td>\n",
       "      <td></td>\n",
       "      <td></td>\n",
       "      <td></td>\n",
       "      <td></td>\n",
       "      <td></td>\n",
       "      <td></td>\n",
       "      <td></td>\n",
       "      <td></td>\n",
       "      <td>9</td>\n",
       "      <td>2021-01-04T12:00:00Z</td>\n",
       "    </tr>\n",
       "    <tr>\n",
       "      <th>3</th>\n",
       "      <td>2536</td>\n",
       "      <td>Waller &amp; 6th St.</td>\n",
       "      <td>closed</td>\n",
       "      <td>602 Waller St.</td>\n",
       "      <td></td>\n",
       "      <td></td>\n",
       "      <td></td>\n",
       "      <td></td>\n",
       "      <td></td>\n",
       "      <td></td>\n",
       "      <td></td>\n",
       "      <td></td>\n",
       "      <td>3</td>\n",
       "      <td>2021-01-04T12:00:00Z</td>\n",
       "    </tr>\n",
       "    <tr>\n",
       "      <th>4</th>\n",
       "      <td>2538</td>\n",
       "      <td>Bullock Museum @ Congress &amp; MLK</td>\n",
       "      <td>closed</td>\n",
       "      <td>1881 Congress Ave.</td>\n",
       "      <td></td>\n",
       "      <td></td>\n",
       "      <td></td>\n",
       "      <td></td>\n",
       "      <td></td>\n",
       "      <td></td>\n",
       "      <td></td>\n",
       "      <td></td>\n",
       "      <td>1</td>\n",
       "      <td>2021-01-04T12:00:00Z</td>\n",
       "    </tr>\n",
       "    <tr>\n",
       "      <th>5</th>\n",
       "      <td>2541</td>\n",
       "      <td>State Capitol @ 14th &amp; Colorado</td>\n",
       "      <td>closed</td>\n",
       "      <td>206 W. 14th St.</td>\n",
       "      <td></td>\n",
       "      <td></td>\n",
       "      <td></td>\n",
       "      <td></td>\n",
       "      <td></td>\n",
       "      <td></td>\n",
       "      <td></td>\n",
       "      <td></td>\n",
       "      <td>1</td>\n",
       "      <td>2021-01-04T12:00:00Z</td>\n",
       "    </tr>\n",
       "    <tr>\n",
       "      <th>6</th>\n",
       "      <td>2545</td>\n",
       "      <td>ACC - Rio Grande &amp; 12th</td>\n",
       "      <td>closed</td>\n",
       "      <td>700 W. 12th St.</td>\n",
       "      <td></td>\n",
       "      <td></td>\n",
       "      <td></td>\n",
       "      <td></td>\n",
       "      <td></td>\n",
       "      <td></td>\n",
       "      <td></td>\n",
       "      <td></td>\n",
       "      <td>9</td>\n",
       "      <td>2021-01-04T12:00:00Z</td>\n",
       "    </tr>\n",
       "    <tr>\n",
       "      <th>7</th>\n",
       "      <td>2502</td>\n",
       "      <td>Barton Springs &amp; Riverside</td>\n",
       "      <td>closed</td>\n",
       "      <td>400 Barton Springs Rd.</td>\n",
       "      <td></td>\n",
       "      <td></td>\n",
       "      <td></td>\n",
       "      <td></td>\n",
       "      <td></td>\n",
       "      <td></td>\n",
       "      <td></td>\n",
       "      <td>moved to Pedernales/2nd. Original city ID: 16729</td>\n",
       "      <td>9</td>\n",
       "      <td>2021-01-04T12:00:00Z</td>\n",
       "    </tr>\n",
       "    <tr>\n",
       "      <th>8</th>\n",
       "      <td>3687</td>\n",
       "      <td>Boardwalk West</td>\n",
       "      <td>active</td>\n",
       "      <td>300 E. Riverside Dr.</td>\n",
       "      <td></td>\n",
       "      <td>16683</td>\n",
       "      <td>parkland</td>\n",
       "      <td>9</td>\n",
       "      <td>solar</td>\n",
       "      <td>30.0</td>\n",
       "      <td>5.0</td>\n",
       "      <td></td>\n",
       "      <td>9</td>\n",
       "      <td>2021-01-04T12:00:00Z</td>\n",
       "    </tr>\n",
       "  </tbody>\n",
       "</table>\n",
       "</div>"
      ],
      "text/plain": [
       "   station_id                                   name  status   \n",
       "0        2500                        Republic Square  closed  \\\n",
       "1        2546               ACC - West & 12th Street  closed   \n",
       "2        2550  Republic Square @ Guadalupe & 4th St.  closed   \n",
       "3        2536                       Waller & 6th St.  closed   \n",
       "4        2538        Bullock Museum @ Congress & MLK  closed   \n",
       "5        2541        State Capitol @ 14th & Colorado  closed   \n",
       "6        2545                ACC - Rio Grande & 12th  closed   \n",
       "7        2502             Barton Springs & Riverside  closed   \n",
       "8        3687                         Boardwalk West  active   \n",
       "\n",
       "                        address alternate_name city_asset_number   \n",
       "0              425 W 4th Street                                   \\\n",
       "1                1231 West Ave.                                    \n",
       "2  Presented by Austin Ventures                                    \n",
       "3                602 Waller St.                                    \n",
       "4            1881 Congress Ave.                                    \n",
       "5               206 W. 14th St.                                    \n",
       "6               700 W. 12th St.                                    \n",
       "7        400 Barton Springs Rd.                                    \n",
       "8          300 E. Riverside Dr.                            16683   \n",
       "\n",
       "  property_type number_of_docks power_type footprint_length footprint_width   \n",
       "0                                                                            \\\n",
       "1                                                                             \n",
       "2                                                                             \n",
       "3                                                                             \n",
       "4                                                                             \n",
       "5                                                                             \n",
       "6                                                                             \n",
       "7                                                                             \n",
       "8      parkland               9      solar             30.0             5.0   \n",
       "\n",
       "                                              notes  council_district   \n",
       "0                                                                   9  \\\n",
       "1                                                                   9   \n",
       "2                                                                   9   \n",
       "3                                                                   3   \n",
       "4                                                                   1   \n",
       "5                                                                   1   \n",
       "6                                                                   9   \n",
       "7  moved to Pedernales/2nd. Original city ID: 16729                 9   \n",
       "8                                                                   9   \n",
       "\n",
       "          modified_date  \n",
       "0  2021-01-04T12:00:00Z  \n",
       "1  2021-01-04T12:00:00Z  \n",
       "2  2021-01-04T12:00:00Z  \n",
       "3  2021-01-04T12:00:00Z  \n",
       "4  2021-01-04T12:00:00Z  \n",
       "5  2021-01-04T12:00:00Z  \n",
       "6  2021-01-04T12:00:00Z  \n",
       "7  2021-01-04T12:00:00Z  \n",
       "8  2021-01-04T12:00:00Z  "
      ]
     },
     "execution_count": 54,
     "metadata": {},
     "output_type": "execute_result"
    }
   ],
   "source": [
    "get_all_stations(conn)"
   ]
  },
  {
   "cell_type": "code",
   "execution_count": 32,
   "id": "e3de3902",
   "metadata": {},
   "outputs": [],
   "source": [
    "# Get Specific trips ID  Query\n",
    "id = 23455589\n",
    "query_id = f\"\"\"\n",
    "SELECT * FROM trips\n",
    "WHERE id = {id}\n",
    "\"\"\"\n",
    "\n",
    "# Get all station ID Query\n",
    "query_trips_all = \"SELECT * FROM trips\""
   ]
  },
  {
   "cell_type": "code",
   "execution_count": 33,
   "id": "ad181f38",
   "metadata": {},
   "outputs": [
    {
     "name": "stdout",
     "output_type": "stream",
     "text": [
      "\n",
      "SELECT * FROM trips\n",
      "WHERE id = 23455589\n",
      "\n"
     ]
    }
   ],
   "source": [
    "print(query_id)"
   ]
  },
  {
   "cell_type": "code",
   "execution_count": 34,
   "id": "2f6b3ba4",
   "metadata": {},
   "outputs": [],
   "source": [
    "# Run the query and get the result\n",
    "result = pd.read_sql_query(query_trips_all, conn)"
   ]
  },
  {
   "cell_type": "code",
   "execution_count": 35,
   "id": "b9969059",
   "metadata": {},
   "outputs": [
    {
     "data": {
      "text/html": [
       "<div>\n",
       "<style scoped>\n",
       "    .dataframe tbody tr th:only-of-type {\n",
       "        vertical-align: middle;\n",
       "    }\n",
       "\n",
       "    .dataframe tbody tr th {\n",
       "        vertical-align: top;\n",
       "    }\n",
       "\n",
       "    .dataframe thead th {\n",
       "        text-align: right;\n",
       "    }\n",
       "</style>\n",
       "<table border=\"1\" class=\"dataframe\">\n",
       "  <thead>\n",
       "    <tr style=\"text-align: right;\">\n",
       "      <th></th>\n",
       "      <th>id</th>\n",
       "      <th>subscriber_type</th>\n",
       "      <th>bikeid</th>\n",
       "      <th>start_time</th>\n",
       "      <th>start_station_id</th>\n",
       "      <th>start_station_name</th>\n",
       "      <th>end_station_id</th>\n",
       "      <th>end_station_name</th>\n",
       "      <th>duration_minutes</th>\n",
       "    </tr>\n",
       "  </thead>\n",
       "  <tbody>\n",
       "    <tr>\n",
       "      <th>0</th>\n",
       "      <td>9900289692</td>\n",
       "      <td>Walk Up</td>\n",
       "      <td>248</td>\n",
       "      <td>2015-10-02 21:12:01 UTC</td>\n",
       "      <td>1006</td>\n",
       "      <td>Zilker Park West</td>\n",
       "      <td>1008</td>\n",
       "      <td>Nueces @ 3rd</td>\n",
       "      <td>39</td>\n",
       "    </tr>\n",
       "    <tr>\n",
       "      <th>1</th>\n",
       "      <td>9900285987</td>\n",
       "      <td>24-Hour Kiosk (Austin B-cycle)</td>\n",
       "      <td>446</td>\n",
       "      <td>2014-10-26 15:12:00 UTC</td>\n",
       "      <td>2712</td>\n",
       "      <td>Toomey Rd @ South Lamar</td>\n",
       "      <td>2712</td>\n",
       "      <td>Toomey Rd @ South Lamar</td>\n",
       "      <td>31</td>\n",
       "    </tr>\n",
       "    <tr>\n",
       "      <th>2</th>\n",
       "      <td>9900285989</td>\n",
       "      <td>24-Hour Kiosk (Austin B-cycle)</td>\n",
       "      <td>203</td>\n",
       "      <td>2014-10-26 15:12:00 UTC</td>\n",
       "      <td>2712</td>\n",
       "      <td>Toomey Rd @ South Lamar</td>\n",
       "      <td>2712</td>\n",
       "      <td>Toomey Rd @ South Lamar</td>\n",
       "      <td>31</td>\n",
       "    </tr>\n",
       "    <tr>\n",
       "      <th>3</th>\n",
       "      <td>9900285991</td>\n",
       "      <td>24-Hour Kiosk (Austin B-cycle)</td>\n",
       "      <td>101</td>\n",
       "      <td>2014-10-26 15:12:00 UTC</td>\n",
       "      <td>2712</td>\n",
       "      <td>Toomey Rd @ South Lamar</td>\n",
       "      <td>2712</td>\n",
       "      <td>Toomey Rd @ South Lamar</td>\n",
       "      <td>30</td>\n",
       "    </tr>\n",
       "    <tr>\n",
       "      <th>4</th>\n",
       "      <td>9900286140</td>\n",
       "      <td>24-Hour Kiosk (Austin B-cycle)</td>\n",
       "      <td>242</td>\n",
       "      <td>2014-10-26 18:12:00 UTC</td>\n",
       "      <td>2541</td>\n",
       "      <td>State Capitol @ 14th &amp; Colorado</td>\n",
       "      <td>2541</td>\n",
       "      <td>State Capitol @ 14th &amp; Colorado</td>\n",
       "      <td>19</td>\n",
       "    </tr>\n",
       "    <tr>\n",
       "      <th>...</th>\n",
       "      <td>...</td>\n",
       "      <td>...</td>\n",
       "      <td>...</td>\n",
       "      <td>...</td>\n",
       "      <td>...</td>\n",
       "      <td>...</td>\n",
       "      <td>...</td>\n",
       "      <td>...</td>\n",
       "      <td>...</td>\n",
       "    </tr>\n",
       "    <tr>\n",
       "      <th>1342061</th>\n",
       "      <td>23515345</td>\n",
       "      <td>Local365</td>\n",
       "      <td>19476</td>\n",
       "      <td>2021-02-13 14:17:15 UTC</td>\n",
       "      <td>3838</td>\n",
       "      <td>26th/Nueces</td>\n",
       "      <td>3841</td>\n",
       "      <td>23rd/Rio Grande</td>\n",
       "      <td>62</td>\n",
       "    </tr>\n",
       "    <tr>\n",
       "      <th>1342062</th>\n",
       "      <td>23553979</td>\n",
       "      <td>Local365</td>\n",
       "      <td>19418</td>\n",
       "      <td>2021-02-26 18:12:13 UTC</td>\n",
       "      <td>3838</td>\n",
       "      <td>26th/Nueces</td>\n",
       "      <td>3841</td>\n",
       "      <td>23rd/Rio Grande</td>\n",
       "      <td>4</td>\n",
       "    </tr>\n",
       "    <tr>\n",
       "      <th>1342063</th>\n",
       "      <td>23499655</td>\n",
       "      <td>U.T. Student Membership</td>\n",
       "      <td>21553</td>\n",
       "      <td>2021-02-07 17:15:29 UTC</td>\n",
       "      <td>3838</td>\n",
       "      <td>26th/Nueces</td>\n",
       "      <td>3841</td>\n",
       "      <td>23rd/Rio Grande</td>\n",
       "      <td>3</td>\n",
       "    </tr>\n",
       "    <tr>\n",
       "      <th>1342064</th>\n",
       "      <td>23538444</td>\n",
       "      <td>U.T. Student Membership</td>\n",
       "      <td>2147</td>\n",
       "      <td>2021-02-22 20:52:06 UTC</td>\n",
       "      <td>3838</td>\n",
       "      <td>26th/Nueces</td>\n",
       "      <td>3841</td>\n",
       "      <td>23rd/Rio Grande</td>\n",
       "      <td>704</td>\n",
       "    </tr>\n",
       "    <tr>\n",
       "      <th>1342065</th>\n",
       "      <td>23536417</td>\n",
       "      <td>Local365</td>\n",
       "      <td>16410</td>\n",
       "      <td>2021-02-22 13:41:36 UTC</td>\n",
       "      <td>3838</td>\n",
       "      <td>26th/Nueces</td>\n",
       "      <td>3841</td>\n",
       "      <td>23rd/Rio Grande</td>\n",
       "      <td>63</td>\n",
       "    </tr>\n",
       "  </tbody>\n",
       "</table>\n",
       "<p>1342066 rows × 9 columns</p>\n",
       "</div>"
      ],
      "text/plain": [
       "                 id                 subscriber_type bikeid   \n",
       "0        9900289692                         Walk Up    248  \\\n",
       "1        9900285987  24-Hour Kiosk (Austin B-cycle)    446   \n",
       "2        9900285989  24-Hour Kiosk (Austin B-cycle)    203   \n",
       "3        9900285991  24-Hour Kiosk (Austin B-cycle)    101   \n",
       "4        9900286140  24-Hour Kiosk (Austin B-cycle)    242   \n",
       "...             ...                             ...    ...   \n",
       "1342061    23515345                        Local365  19476   \n",
       "1342062    23553979                        Local365  19418   \n",
       "1342063    23499655         U.T. Student Membership  21553   \n",
       "1342064    23538444         U.T. Student Membership   2147   \n",
       "1342065    23536417                        Local365  16410   \n",
       "\n",
       "                      start_time start_station_id   \n",
       "0        2015-10-02 21:12:01 UTC             1006  \\\n",
       "1        2014-10-26 15:12:00 UTC             2712   \n",
       "2        2014-10-26 15:12:00 UTC             2712   \n",
       "3        2014-10-26 15:12:00 UTC             2712   \n",
       "4        2014-10-26 18:12:00 UTC             2541   \n",
       "...                          ...              ...   \n",
       "1342061  2021-02-13 14:17:15 UTC             3838   \n",
       "1342062  2021-02-26 18:12:13 UTC             3838   \n",
       "1342063  2021-02-07 17:15:29 UTC             3838   \n",
       "1342064  2021-02-22 20:52:06 UTC             3838   \n",
       "1342065  2021-02-22 13:41:36 UTC             3838   \n",
       "\n",
       "                      start_station_name end_station_id   \n",
       "0                       Zilker Park West           1008  \\\n",
       "1                Toomey Rd @ South Lamar           2712   \n",
       "2                Toomey Rd @ South Lamar           2712   \n",
       "3                Toomey Rd @ South Lamar           2712   \n",
       "4        State Capitol @ 14th & Colorado           2541   \n",
       "...                                  ...            ...   \n",
       "1342061                      26th/Nueces           3841   \n",
       "1342062                      26th/Nueces           3841   \n",
       "1342063                      26th/Nueces           3841   \n",
       "1342064                      26th/Nueces           3841   \n",
       "1342065                      26th/Nueces           3841   \n",
       "\n",
       "                        end_station_name  duration_minutes  \n",
       "0                           Nueces @ 3rd                39  \n",
       "1                Toomey Rd @ South Lamar                31  \n",
       "2                Toomey Rd @ South Lamar                31  \n",
       "3                Toomey Rd @ South Lamar                30  \n",
       "4        State Capitol @ 14th & Colorado                19  \n",
       "...                                  ...               ...  \n",
       "1342061                  23rd/Rio Grande                62  \n",
       "1342062                  23rd/Rio Grande                 4  \n",
       "1342063                  23rd/Rio Grande                 3  \n",
       "1342064                  23rd/Rio Grande               704  \n",
       "1342065                  23rd/Rio Grande                63  \n",
       "\n",
       "[1342066 rows x 9 columns]"
      ]
     },
     "execution_count": 35,
     "metadata": {},
     "output_type": "execute_result"
    }
   ],
   "source": [
    "result"
   ]
  },
  {
   "cell_type": "code",
   "execution_count": 36,
   "id": "cbf70af2",
   "metadata": {},
   "outputs": [],
   "source": [
    "def get_id(id, conn):\n",
    "    query = f\"\"\"SELECT * FROM trips WHERE id = {id}\"\"\"\n",
    "    result = pd.read_sql_query(query, conn)\n",
    "    return result \n",
    "\n",
    "def get_all_trips(conn):\n",
    "    query = f\"\"\"SELECT * FROM trips\"\"\"\n",
    "    result = pd.read_sql_query(query, conn)\n",
    "    return result"
   ]
  },
  {
   "cell_type": "code",
   "execution_count": 37,
   "id": "9003c169",
   "metadata": {},
   "outputs": [
    {
     "data": {
      "text/html": [
       "<div>\n",
       "<style scoped>\n",
       "    .dataframe tbody tr th:only-of-type {\n",
       "        vertical-align: middle;\n",
       "    }\n",
       "\n",
       "    .dataframe tbody tr th {\n",
       "        vertical-align: top;\n",
       "    }\n",
       "\n",
       "    .dataframe thead th {\n",
       "        text-align: right;\n",
       "    }\n",
       "</style>\n",
       "<table border=\"1\" class=\"dataframe\">\n",
       "  <thead>\n",
       "    <tr style=\"text-align: right;\">\n",
       "      <th></th>\n",
       "      <th>id</th>\n",
       "      <th>subscriber_type</th>\n",
       "      <th>bikeid</th>\n",
       "      <th>start_time</th>\n",
       "      <th>start_station_id</th>\n",
       "      <th>start_station_name</th>\n",
       "      <th>end_station_id</th>\n",
       "      <th>end_station_name</th>\n",
       "      <th>duration_minutes</th>\n",
       "    </tr>\n",
       "  </thead>\n",
       "  <tbody>\n",
       "    <tr>\n",
       "      <th>0</th>\n",
       "      <td>23455589</td>\n",
       "      <td>Local365</td>\n",
       "      <td>174</td>\n",
       "      <td>2021-01-26 17:47:42 UTC</td>\n",
       "      <td>4059</td>\n",
       "      <td>Nash Hernandez/East @ RBJ South</td>\n",
       "      <td>3660</td>\n",
       "      <td>East 6th/Medina</td>\n",
       "      <td>7</td>\n",
       "    </tr>\n",
       "  </tbody>\n",
       "</table>\n",
       "</div>"
      ],
      "text/plain": [
       "         id subscriber_type bikeid               start_time  start_station_id   \n",
       "0  23455589        Local365    174  2021-01-26 17:47:42 UTC              4059  \\\n",
       "\n",
       "                start_station_name  end_station_id end_station_name   \n",
       "0  Nash Hernandez/East @ RBJ South            3660  East 6th/Medina  \\\n",
       "\n",
       "   duration_minutes  \n",
       "0                 7  "
      ]
     },
     "execution_count": 37,
     "metadata": {},
     "output_type": "execute_result"
    }
   ],
   "source": [
    "get_id(23455589,conn)"
   ]
  },
  {
   "cell_type": "code",
   "execution_count": 38,
   "id": "bbaac450",
   "metadata": {},
   "outputs": [
    {
     "data": {
      "text/html": [
       "<div>\n",
       "<style scoped>\n",
       "    .dataframe tbody tr th:only-of-type {\n",
       "        vertical-align: middle;\n",
       "    }\n",
       "\n",
       "    .dataframe tbody tr th {\n",
       "        vertical-align: top;\n",
       "    }\n",
       "\n",
       "    .dataframe thead th {\n",
       "        text-align: right;\n",
       "    }\n",
       "</style>\n",
       "<table border=\"1\" class=\"dataframe\">\n",
       "  <thead>\n",
       "    <tr style=\"text-align: right;\">\n",
       "      <th></th>\n",
       "      <th>id</th>\n",
       "      <th>subscriber_type</th>\n",
       "      <th>bikeid</th>\n",
       "      <th>start_time</th>\n",
       "      <th>start_station_id</th>\n",
       "      <th>start_station_name</th>\n",
       "      <th>end_station_id</th>\n",
       "      <th>end_station_name</th>\n",
       "      <th>duration_minutes</th>\n",
       "    </tr>\n",
       "  </thead>\n",
       "  <tbody>\n",
       "    <tr>\n",
       "      <th>0</th>\n",
       "      <td>9900289692</td>\n",
       "      <td>Walk Up</td>\n",
       "      <td>248</td>\n",
       "      <td>2015-10-02 21:12:01 UTC</td>\n",
       "      <td>1006</td>\n",
       "      <td>Zilker Park West</td>\n",
       "      <td>1008</td>\n",
       "      <td>Nueces @ 3rd</td>\n",
       "      <td>39</td>\n",
       "    </tr>\n",
       "    <tr>\n",
       "      <th>1</th>\n",
       "      <td>9900285987</td>\n",
       "      <td>24-Hour Kiosk (Austin B-cycle)</td>\n",
       "      <td>446</td>\n",
       "      <td>2014-10-26 15:12:00 UTC</td>\n",
       "      <td>2712</td>\n",
       "      <td>Toomey Rd @ South Lamar</td>\n",
       "      <td>2712</td>\n",
       "      <td>Toomey Rd @ South Lamar</td>\n",
       "      <td>31</td>\n",
       "    </tr>\n",
       "    <tr>\n",
       "      <th>2</th>\n",
       "      <td>9900285989</td>\n",
       "      <td>24-Hour Kiosk (Austin B-cycle)</td>\n",
       "      <td>203</td>\n",
       "      <td>2014-10-26 15:12:00 UTC</td>\n",
       "      <td>2712</td>\n",
       "      <td>Toomey Rd @ South Lamar</td>\n",
       "      <td>2712</td>\n",
       "      <td>Toomey Rd @ South Lamar</td>\n",
       "      <td>31</td>\n",
       "    </tr>\n",
       "    <tr>\n",
       "      <th>3</th>\n",
       "      <td>9900285991</td>\n",
       "      <td>24-Hour Kiosk (Austin B-cycle)</td>\n",
       "      <td>101</td>\n",
       "      <td>2014-10-26 15:12:00 UTC</td>\n",
       "      <td>2712</td>\n",
       "      <td>Toomey Rd @ South Lamar</td>\n",
       "      <td>2712</td>\n",
       "      <td>Toomey Rd @ South Lamar</td>\n",
       "      <td>30</td>\n",
       "    </tr>\n",
       "    <tr>\n",
       "      <th>4</th>\n",
       "      <td>9900286140</td>\n",
       "      <td>24-Hour Kiosk (Austin B-cycle)</td>\n",
       "      <td>242</td>\n",
       "      <td>2014-10-26 18:12:00 UTC</td>\n",
       "      <td>2541</td>\n",
       "      <td>State Capitol @ 14th &amp; Colorado</td>\n",
       "      <td>2541</td>\n",
       "      <td>State Capitol @ 14th &amp; Colorado</td>\n",
       "      <td>19</td>\n",
       "    </tr>\n",
       "    <tr>\n",
       "      <th>...</th>\n",
       "      <td>...</td>\n",
       "      <td>...</td>\n",
       "      <td>...</td>\n",
       "      <td>...</td>\n",
       "      <td>...</td>\n",
       "      <td>...</td>\n",
       "      <td>...</td>\n",
       "      <td>...</td>\n",
       "      <td>...</td>\n",
       "    </tr>\n",
       "    <tr>\n",
       "      <th>1342061</th>\n",
       "      <td>23515345</td>\n",
       "      <td>Local365</td>\n",
       "      <td>19476</td>\n",
       "      <td>2021-02-13 14:17:15 UTC</td>\n",
       "      <td>3838</td>\n",
       "      <td>26th/Nueces</td>\n",
       "      <td>3841</td>\n",
       "      <td>23rd/Rio Grande</td>\n",
       "      <td>62</td>\n",
       "    </tr>\n",
       "    <tr>\n",
       "      <th>1342062</th>\n",
       "      <td>23553979</td>\n",
       "      <td>Local365</td>\n",
       "      <td>19418</td>\n",
       "      <td>2021-02-26 18:12:13 UTC</td>\n",
       "      <td>3838</td>\n",
       "      <td>26th/Nueces</td>\n",
       "      <td>3841</td>\n",
       "      <td>23rd/Rio Grande</td>\n",
       "      <td>4</td>\n",
       "    </tr>\n",
       "    <tr>\n",
       "      <th>1342063</th>\n",
       "      <td>23499655</td>\n",
       "      <td>U.T. Student Membership</td>\n",
       "      <td>21553</td>\n",
       "      <td>2021-02-07 17:15:29 UTC</td>\n",
       "      <td>3838</td>\n",
       "      <td>26th/Nueces</td>\n",
       "      <td>3841</td>\n",
       "      <td>23rd/Rio Grande</td>\n",
       "      <td>3</td>\n",
       "    </tr>\n",
       "    <tr>\n",
       "      <th>1342064</th>\n",
       "      <td>23538444</td>\n",
       "      <td>U.T. Student Membership</td>\n",
       "      <td>2147</td>\n",
       "      <td>2021-02-22 20:52:06 UTC</td>\n",
       "      <td>3838</td>\n",
       "      <td>26th/Nueces</td>\n",
       "      <td>3841</td>\n",
       "      <td>23rd/Rio Grande</td>\n",
       "      <td>704</td>\n",
       "    </tr>\n",
       "    <tr>\n",
       "      <th>1342065</th>\n",
       "      <td>23536417</td>\n",
       "      <td>Local365</td>\n",
       "      <td>16410</td>\n",
       "      <td>2021-02-22 13:41:36 UTC</td>\n",
       "      <td>3838</td>\n",
       "      <td>26th/Nueces</td>\n",
       "      <td>3841</td>\n",
       "      <td>23rd/Rio Grande</td>\n",
       "      <td>63</td>\n",
       "    </tr>\n",
       "  </tbody>\n",
       "</table>\n",
       "<p>1342066 rows × 9 columns</p>\n",
       "</div>"
      ],
      "text/plain": [
       "                 id                 subscriber_type bikeid   \n",
       "0        9900289692                         Walk Up    248  \\\n",
       "1        9900285987  24-Hour Kiosk (Austin B-cycle)    446   \n",
       "2        9900285989  24-Hour Kiosk (Austin B-cycle)    203   \n",
       "3        9900285991  24-Hour Kiosk (Austin B-cycle)    101   \n",
       "4        9900286140  24-Hour Kiosk (Austin B-cycle)    242   \n",
       "...             ...                             ...    ...   \n",
       "1342061    23515345                        Local365  19476   \n",
       "1342062    23553979                        Local365  19418   \n",
       "1342063    23499655         U.T. Student Membership  21553   \n",
       "1342064    23538444         U.T. Student Membership   2147   \n",
       "1342065    23536417                        Local365  16410   \n",
       "\n",
       "                      start_time start_station_id   \n",
       "0        2015-10-02 21:12:01 UTC             1006  \\\n",
       "1        2014-10-26 15:12:00 UTC             2712   \n",
       "2        2014-10-26 15:12:00 UTC             2712   \n",
       "3        2014-10-26 15:12:00 UTC             2712   \n",
       "4        2014-10-26 18:12:00 UTC             2541   \n",
       "...                          ...              ...   \n",
       "1342061  2021-02-13 14:17:15 UTC             3838   \n",
       "1342062  2021-02-26 18:12:13 UTC             3838   \n",
       "1342063  2021-02-07 17:15:29 UTC             3838   \n",
       "1342064  2021-02-22 20:52:06 UTC             3838   \n",
       "1342065  2021-02-22 13:41:36 UTC             3838   \n",
       "\n",
       "                      start_station_name end_station_id   \n",
       "0                       Zilker Park West           1008  \\\n",
       "1                Toomey Rd @ South Lamar           2712   \n",
       "2                Toomey Rd @ South Lamar           2712   \n",
       "3                Toomey Rd @ South Lamar           2712   \n",
       "4        State Capitol @ 14th & Colorado           2541   \n",
       "...                                  ...            ...   \n",
       "1342061                      26th/Nueces           3841   \n",
       "1342062                      26th/Nueces           3841   \n",
       "1342063                      26th/Nueces           3841   \n",
       "1342064                      26th/Nueces           3841   \n",
       "1342065                      26th/Nueces           3841   \n",
       "\n",
       "                        end_station_name  duration_minutes  \n",
       "0                           Nueces @ 3rd                39  \n",
       "1                Toomey Rd @ South Lamar                31  \n",
       "2                Toomey Rd @ South Lamar                31  \n",
       "3                Toomey Rd @ South Lamar                30  \n",
       "4        State Capitol @ 14th & Colorado                19  \n",
       "...                                  ...               ...  \n",
       "1342061                  23rd/Rio Grande                62  \n",
       "1342062                  23rd/Rio Grande                 4  \n",
       "1342063                  23rd/Rio Grande                 3  \n",
       "1342064                  23rd/Rio Grande               704  \n",
       "1342065                  23rd/Rio Grande                63  \n",
       "\n",
       "[1342066 rows x 9 columns]"
      ]
     },
     "execution_count": 38,
     "metadata": {},
     "output_type": "execute_result"
    }
   ],
   "source": [
    "get_all_trips(conn)"
   ]
  },
  {
   "cell_type": "markdown",
   "id": "b024e79d-c7db-43ca-a226-45e934c5cdc0",
   "metadata": {},
   "source": [
    "# Flask App"
   ]
  },
  {
   "cell_type": "markdown",
   "id": "d167587d-7e47-443c-b237-07f4201a6848",
   "metadata": {},
   "source": [
    "Flask is a micro-framework for python. Generally we can build any application out of it. To start with, let's make our first empy flask app. \n",
    "Creata a new file `app.py`, then copy-paste the following codes into it and save it. \n",
    "\n",
    "*Notes: it's recomended to use vscode as editor since it support vast linting supports, including python which we find really helpful in coding*"
   ]
  },
  {
   "cell_type": "markdown",
   "id": "fae662bf-4667-4b4c-a5a8-e8118d45e151",
   "metadata": {},
   "source": [
    "```python\n",
    "from flask import Flask, request\n",
    "app = Flask(__name__) \n",
    "\n",
    "if __name__ == '__main__':\n",
    "    app.run(debug=True, port=5000)\n",
    "```"
   ]
  },
  {
   "cell_type": "markdown",
   "id": "20a3e191-2d1d-42f2-b620-ab8d4535fe5f",
   "metadata": {},
   "source": [
    "To run the app, you can open your terminal, go to the specific folder and run `python app.py` using your designated virtual environment"
   ]
  },
  {
   "cell_type": "markdown",
   "id": "b7bd4362-55ad-48e7-9ed5-a9efb269d191",
   "metadata": {},
   "source": [
    "## Routes and Endpoints"
   ]
  },
  {
   "cell_type": "markdown",
   "id": "87f78576-5db9-40cc-9ccf-5f865caf0689",
   "metadata": {},
   "source": [
    "### Implement endpoints"
   ]
  },
  {
   "cell_type": "markdown",
   "id": "e52ff12b-2613-4a15-ad98-5cf8881eb5ed",
   "metadata": {},
   "source": [
    "If you succesfully run the previous app and access the localhost:5000 , you might get an 404 not found error. This is because we **have not** define yet what will happen if people accessing our root path of the app (localhost:5000/)\n",
    "\n",
    "Add the following example of route or endpoint into your `app.py` just before the `if __name__ === '__main__':` line, and reload the page to see if it works"
   ]
  },
  {
   "cell_type": "markdown",
   "id": "6870c3db-a88d-4ae6-a791-04f9e212f3f8",
   "metadata": {},
   "source": [
    "```python \n",
    "@app.route('/')\n",
    "def home():\n",
    "    return 'Hello World'\n",
    "```"
   ]
  },
  {
   "cell_type": "markdown",
   "id": "f23f1514-2ea7-4699-9b3c-b8ba2ee608eb",
   "metadata": {},
   "source": [
    "Above endpoints will runs the `home` function anytime user access the `/` page.\n",
    "\n",
    "Since we are going to handle all the requests through this app, the very next step is to implement our functionalites. Let's start with implementing the functionality to read all station data\n",
    "\n",
    "we will add the `get_all_stations()` functions into our app, create a `@app.route('/stations/')` endpoint and call the function in it. The code should looks like:\n",
    "\n",
    "```python \n",
    "@app.route('/stations/')\n",
    "def route_all_stations():\n",
    "    conn = make_connection()\n",
    "    stations = get_all_stations(conn)\n",
    "    return stations.to_json()\n",
    "    \n",
    "def get_all_stations(conn):\n",
    "    query = f\"\"\"SELECT * FROM stations\"\"\"\n",
    "    result = pd.read_sql_query(query, conn)\n",
    "    return result\n",
    "```"
   ]
  },
  {
   "cell_type": "markdown",
   "id": "11a81990-4add-4a66-8771-4832866f938b",
   "metadata": {},
   "source": [
    "However, adding just above codes is not enough. If you see, there is a dependency inside the function, which is `make_connection()` function. Other than that, we will be using all the required libraries. \n",
    "\n",
    "Hence, we can complete the code by : \n",
    "- import the required libraries at the top of the `app.py` file\n",
    "- write the `make_connection()` function before any routes declarations"
   ]
  },
  {
   "cell_type": "markdown",
   "id": "536b16f2-1cc4-4605-88ae-feee9cc6eec7",
   "metadata": {},
   "source": [
    "Once it's completed, you should see no errors in the vscode screen, and your endpoint should work just fine and returns all the stations. It's now your task to impelement the `get_all_trips` into the app "
   ]
  },
  {
   "cell_type": "markdown",
   "id": "c8eec277-fdd5-4367-83e5-f6916794b186",
   "metadata": {},
   "source": [
    "**TASK: Implement `get_all_trips()` method into the app** \\\n",
    "Place it under `@app.route('/trips/')` endpoint"
   ]
  },
  {
   "cell_type": "code",
   "execution_count": null,
   "id": "5ee8aed5",
   "metadata": {},
   "outputs": [],
   "source": [
    "# your code\n",
    "from flask import Flask, request\n",
    "import sqlite3\n",
    "import requests\n",
    "from tqdm import tqdm\n",
    "import json \n",
    "import numpy as np\n",
    "import pandas as pd\n",
    "\n",
    "\n",
    "app = Flask(__name__) \n",
    "\n",
    "\n",
    "@app.route('/trips/')\n",
    "def route_all_trips():\n",
    "    conn = make_connection()\n",
    "    trips = get_all_trips(conn)\n",
    "    return trips.to_json()\n",
    "\n",
    "################ Functions ################\n",
    "\n",
    "\n",
    "def get_all_trips(conn):\n",
    "    query = f\"\"\"SELECT * FROM trips\"\"\"\n",
    "    result = pd.read_sql_query(query, conn)\n",
    "    return result\n",
    "\n",
    "def make_connection():\n",
    "    connection = sqlite3.connect('austin_bikeshare.db')\n",
    "    return connection\n",
    "\n",
    "\n",
    "if __name__ == '__main__':\n",
    "    app.run(debug=True, port=5000)"
   ]
  },
  {
   "cell_type": "markdown",
   "id": "bc45734a-5d15-4e4c-837f-64ab1cafdde6",
   "metadata": {},
   "source": [
    "### Access Endpoints"
   ]
  },
  {
   "cell_type": "markdown",
   "id": "43143d5d-a361-4141-8f35-2b47f112075a",
   "metadata": {},
   "source": [
    "To access our endpoints using python, simply use `requests` library followed by the request method (post, get, put, delete, etc) the passed in the url or data "
   ]
  },
  {
   "cell_type": "code",
   "execution_count": 39,
   "id": "f1a3ebbe-591d-4b38-b858-6ef1ea787d74",
   "metadata": {},
   "outputs": [],
   "source": [
    "url = 'http://127.0.0.1:5000/stations/'\n",
    "res = requests.get(url)"
   ]
  },
  {
   "cell_type": "code",
   "execution_count": 40,
   "id": "64a3ec96",
   "metadata": {},
   "outputs": [
    {
     "data": {
      "text/plain": [
       "<Response [404]>"
      ]
     },
     "execution_count": 40,
     "metadata": {},
     "output_type": "execute_result"
    }
   ],
   "source": [
    "res"
   ]
  },
  {
   "cell_type": "code",
   "execution_count": 58,
   "id": "27c58dae",
   "metadata": {},
   "outputs": [
    {
     "data": {
      "text/plain": [
       "'{\"station_id\":{\"0\":2500,\"1\":2546,\"2\":2550,\"3\":2536,\"4\":2538,\"5\":2541,\"6\":2545,\"7\":2502,\"8\":3687},\"name\":{\"0\":\"Republic Square\",\"1\":\"ACC - West & 12th Street\",\"2\":\"Republic Square @ Guadalupe & 4th St.\",\"3\":\"Waller & 6th St.\",\"4\":\"Bullock Museum @ Congress & MLK\",\"5\":\"State Capitol @ 14th & Colorado\",\"6\":\"ACC - Rio Grande & 12th\",\"7\":\"Barton Springs & Riverside\",\"8\":\"Boardwalk West\"},\"status\":{\"0\":\"closed\",\"1\":\"closed\",\"2\":\"closed\",\"3\":\"closed\",\"4\":\"closed\",\"5\":\"closed\",\"6\":\"closed\",\"7\":\"closed\",\"8\":\"active\"},\"address\":{\"0\":\"425 W 4th Street\",\"1\":\"1231 West Ave.\",\"2\":\"Presented by Austin Ventures\",\"3\":\"602 Waller St.\",\"4\":\"1881 Congress Ave.\",\"5\":\"206 W. 14th St.\",\"6\":\"700 W. 12th St.\",\"7\":\"400 Barton Springs Rd.\",\"8\":\"300 E. Riverside Dr.\"},\"alternate_name\":{\"0\":\"\",\"1\":\"\",\"2\":\"\",\"3\":\"\",\"4\":\"\",\"5\":\"\",\"6\":\"\",\"7\":\"\",\"8\":\"\"},\"city_asset_number\":{\"0\":\"\",\"1\":\"\",\"2\":\"\",\"3\":\"\",\"4\":\"\",\"5\":\"\",\"6\":\"\",\"7\":\"\",\"8\":16683},\"property_type\":{\"0\":\"\",\"1\":\"\",\"2\":\"\",\"3\":\"\",\"4\":\"\",\"5\":\"\",\"6\":\"\",\"7\":\" \",\"8\":\"parkland\"},\"number_of_docks\":{\"0\":\"\",\"1\":\"\",\"2\":\"\",\"3\":\"\",\"4\":\"\",\"5\":\"\",\"6\":\"\",\"7\":\"\",\"8\":9},\"power_type\":{\"0\":\"\",\"1\":\"\",\"2\":\"\",\"3\":\"\",\"4\":\"\",\"5\":\"\",\"6\":\"\",\"7\":\" \",\"8\":\"solar\"},\"footprint_length\":{\"0\":\"\",\"1\":\"\",\"2\":\"\",\"3\":\"\",\"4\":\"\",\"5\":\"\",\"6\":\"\",\"7\":\"\",\"8\":30.0},\"footprint_width\":{\"0\":\"\",\"1\":\"\",\"2\":\"\",\"3\":\"\",\"4\":\"\",\"5\":\"\",\"6\":\"\",\"7\":\"\",\"8\":5.0},\"notes\":{\"0\":\"\",\"1\":\"\",\"2\":\"\",\"3\":\"\",\"4\":\"\",\"5\":\"\",\"6\":\"\",\"7\":\"moved to Pedernales\\\\/2nd. Original city ID: 16729\",\"8\":\"\"},\"council_district\":{\"0\":9,\"1\":9,\"2\":9,\"3\":3,\"4\":1,\"5\":1,\"6\":9,\"7\":9,\"8\":9},\"modified_date\":{\"0\":\"2021-01-04T12:00:00Z\",\"1\":\"2021-01-04T12:00:00Z\",\"2\":\"2021-01-04T12:00:00Z\",\"3\":\"2021-01-04T12:00:00Z\",\"4\":\"2021-01-04T12:00:00Z\",\"5\":\"2021-01-04T12:00:00Z\",\"6\":\"2021-01-04T12:00:00Z\",\"7\":\"2021-01-04T12:00:00Z\",\"8\":\"2021-01-04T12:00:00Z\"}}'"
      ]
     },
     "execution_count": 58,
     "metadata": {},
     "output_type": "execute_result"
    }
   ],
   "source": [
    "res.text"
   ]
  },
  {
   "cell_type": "code",
   "execution_count": 59,
   "id": "6a8c36cb",
   "metadata": {},
   "outputs": [
    {
     "data": {
      "text/plain": [
       "{'station_id': {'0': 2500,\n",
       "  '1': 2546,\n",
       "  '2': 2550,\n",
       "  '3': 2536,\n",
       "  '4': 2538,\n",
       "  '5': 2541,\n",
       "  '6': 2545,\n",
       "  '7': 2502,\n",
       "  '8': 3687},\n",
       " 'name': {'0': 'Republic Square',\n",
       "  '1': 'ACC - West & 12th Street',\n",
       "  '2': 'Republic Square @ Guadalupe & 4th St.',\n",
       "  '3': 'Waller & 6th St.',\n",
       "  '4': 'Bullock Museum @ Congress & MLK',\n",
       "  '5': 'State Capitol @ 14th & Colorado',\n",
       "  '6': 'ACC - Rio Grande & 12th',\n",
       "  '7': 'Barton Springs & Riverside',\n",
       "  '8': 'Boardwalk West'},\n",
       " 'status': {'0': 'closed',\n",
       "  '1': 'closed',\n",
       "  '2': 'closed',\n",
       "  '3': 'closed',\n",
       "  '4': 'closed',\n",
       "  '5': 'closed',\n",
       "  '6': 'closed',\n",
       "  '7': 'closed',\n",
       "  '8': 'active'},\n",
       " 'address': {'0': '425 W 4th Street',\n",
       "  '1': '1231 West Ave.',\n",
       "  '2': 'Presented by Austin Ventures',\n",
       "  '3': '602 Waller St.',\n",
       "  '4': '1881 Congress Ave.',\n",
       "  '5': '206 W. 14th St.',\n",
       "  '6': '700 W. 12th St.',\n",
       "  '7': '400 Barton Springs Rd.',\n",
       "  '8': '300 E. Riverside Dr.'},\n",
       " 'alternate_name': {'0': '',\n",
       "  '1': '',\n",
       "  '2': '',\n",
       "  '3': '',\n",
       "  '4': '',\n",
       "  '5': '',\n",
       "  '6': '',\n",
       "  '7': '',\n",
       "  '8': ''},\n",
       " 'city_asset_number': {'0': '',\n",
       "  '1': '',\n",
       "  '2': '',\n",
       "  '3': '',\n",
       "  '4': '',\n",
       "  '5': '',\n",
       "  '6': '',\n",
       "  '7': '',\n",
       "  '8': 16683},\n",
       " 'property_type': {'0': '',\n",
       "  '1': '',\n",
       "  '2': '',\n",
       "  '3': '',\n",
       "  '4': '',\n",
       "  '5': '',\n",
       "  '6': '',\n",
       "  '7': ' ',\n",
       "  '8': 'parkland'},\n",
       " 'number_of_docks': {'0': '',\n",
       "  '1': '',\n",
       "  '2': '',\n",
       "  '3': '',\n",
       "  '4': '',\n",
       "  '5': '',\n",
       "  '6': '',\n",
       "  '7': '',\n",
       "  '8': 9},\n",
       " 'power_type': {'0': '',\n",
       "  '1': '',\n",
       "  '2': '',\n",
       "  '3': '',\n",
       "  '4': '',\n",
       "  '5': '',\n",
       "  '6': '',\n",
       "  '7': ' ',\n",
       "  '8': 'solar'},\n",
       " 'footprint_length': {'0': '',\n",
       "  '1': '',\n",
       "  '2': '',\n",
       "  '3': '',\n",
       "  '4': '',\n",
       "  '5': '',\n",
       "  '6': '',\n",
       "  '7': '',\n",
       "  '8': 30.0},\n",
       " 'footprint_width': {'0': '',\n",
       "  '1': '',\n",
       "  '2': '',\n",
       "  '3': '',\n",
       "  '4': '',\n",
       "  '5': '',\n",
       "  '6': '',\n",
       "  '7': '',\n",
       "  '8': 5.0},\n",
       " 'notes': {'0': '',\n",
       "  '1': '',\n",
       "  '2': '',\n",
       "  '3': '',\n",
       "  '4': '',\n",
       "  '5': '',\n",
       "  '6': '',\n",
       "  '7': 'moved to Pedernales/2nd. Original city ID: 16729',\n",
       "  '8': ''},\n",
       " 'council_district': {'0': 9,\n",
       "  '1': 9,\n",
       "  '2': 9,\n",
       "  '3': 3,\n",
       "  '4': 1,\n",
       "  '5': 1,\n",
       "  '6': 9,\n",
       "  '7': 9,\n",
       "  '8': 9},\n",
       " 'modified_date': {'0': '2021-01-04T12:00:00Z',\n",
       "  '1': '2021-01-04T12:00:00Z',\n",
       "  '2': '2021-01-04T12:00:00Z',\n",
       "  '3': '2021-01-04T12:00:00Z',\n",
       "  '4': '2021-01-04T12:00:00Z',\n",
       "  '5': '2021-01-04T12:00:00Z',\n",
       "  '6': '2021-01-04T12:00:00Z',\n",
       "  '7': '2021-01-04T12:00:00Z',\n",
       "  '8': '2021-01-04T12:00:00Z'}}"
      ]
     },
     "execution_count": 59,
     "metadata": {},
     "output_type": "execute_result"
    }
   ],
   "source": [
    "res.json()"
   ]
  },
  {
   "cell_type": "markdown",
   "id": "9a74d722-50f9-4c1c-9fca-ab8708cf9848",
   "metadata": {},
   "source": [
    "The response sent by the server was not only contains bare data. It was packed as HTTP response, meaning that we need to unpack the response first  in order to get the data. we can use `res.json()` to obtain it, then use pandas to transform it into dataframe for readibility or future analysis purposes. "
   ]
  },
  {
   "cell_type": "code",
   "execution_count": 60,
   "id": "c2b40a51-3e8f-4991-b58e-70cb3b95f345",
   "metadata": {},
   "outputs": [
    {
     "data": {
      "text/html": [
       "<div>\n",
       "<style scoped>\n",
       "    .dataframe tbody tr th:only-of-type {\n",
       "        vertical-align: middle;\n",
       "    }\n",
       "\n",
       "    .dataframe tbody tr th {\n",
       "        vertical-align: top;\n",
       "    }\n",
       "\n",
       "    .dataframe thead th {\n",
       "        text-align: right;\n",
       "    }\n",
       "</style>\n",
       "<table border=\"1\" class=\"dataframe\">\n",
       "  <thead>\n",
       "    <tr style=\"text-align: right;\">\n",
       "      <th></th>\n",
       "      <th>station_id</th>\n",
       "      <th>name</th>\n",
       "      <th>status</th>\n",
       "      <th>address</th>\n",
       "      <th>alternate_name</th>\n",
       "      <th>city_asset_number</th>\n",
       "      <th>property_type</th>\n",
       "      <th>number_of_docks</th>\n",
       "      <th>power_type</th>\n",
       "      <th>footprint_length</th>\n",
       "      <th>footprint_width</th>\n",
       "      <th>notes</th>\n",
       "      <th>council_district</th>\n",
       "      <th>modified_date</th>\n",
       "    </tr>\n",
       "  </thead>\n",
       "  <tbody>\n",
       "    <tr>\n",
       "      <th>0</th>\n",
       "      <td>2500</td>\n",
       "      <td>Republic Square</td>\n",
       "      <td>closed</td>\n",
       "      <td>425 W 4th Street</td>\n",
       "      <td></td>\n",
       "      <td></td>\n",
       "      <td></td>\n",
       "      <td></td>\n",
       "      <td></td>\n",
       "      <td></td>\n",
       "      <td></td>\n",
       "      <td></td>\n",
       "      <td>9</td>\n",
       "      <td>2021-01-04T12:00:00Z</td>\n",
       "    </tr>\n",
       "    <tr>\n",
       "      <th>1</th>\n",
       "      <td>2546</td>\n",
       "      <td>ACC - West &amp; 12th Street</td>\n",
       "      <td>closed</td>\n",
       "      <td>1231 West Ave.</td>\n",
       "      <td></td>\n",
       "      <td></td>\n",
       "      <td></td>\n",
       "      <td></td>\n",
       "      <td></td>\n",
       "      <td></td>\n",
       "      <td></td>\n",
       "      <td></td>\n",
       "      <td>9</td>\n",
       "      <td>2021-01-04T12:00:00Z</td>\n",
       "    </tr>\n",
       "    <tr>\n",
       "      <th>2</th>\n",
       "      <td>2550</td>\n",
       "      <td>Republic Square @ Guadalupe &amp; 4th St.</td>\n",
       "      <td>closed</td>\n",
       "      <td>Presented by Austin Ventures</td>\n",
       "      <td></td>\n",
       "      <td></td>\n",
       "      <td></td>\n",
       "      <td></td>\n",
       "      <td></td>\n",
       "      <td></td>\n",
       "      <td></td>\n",
       "      <td></td>\n",
       "      <td>9</td>\n",
       "      <td>2021-01-04T12:00:00Z</td>\n",
       "    </tr>\n",
       "    <tr>\n",
       "      <th>3</th>\n",
       "      <td>2536</td>\n",
       "      <td>Waller &amp; 6th St.</td>\n",
       "      <td>closed</td>\n",
       "      <td>602 Waller St.</td>\n",
       "      <td></td>\n",
       "      <td></td>\n",
       "      <td></td>\n",
       "      <td></td>\n",
       "      <td></td>\n",
       "      <td></td>\n",
       "      <td></td>\n",
       "      <td></td>\n",
       "      <td>3</td>\n",
       "      <td>2021-01-04T12:00:00Z</td>\n",
       "    </tr>\n",
       "    <tr>\n",
       "      <th>4</th>\n",
       "      <td>2538</td>\n",
       "      <td>Bullock Museum @ Congress &amp; MLK</td>\n",
       "      <td>closed</td>\n",
       "      <td>1881 Congress Ave.</td>\n",
       "      <td></td>\n",
       "      <td></td>\n",
       "      <td></td>\n",
       "      <td></td>\n",
       "      <td></td>\n",
       "      <td></td>\n",
       "      <td></td>\n",
       "      <td></td>\n",
       "      <td>1</td>\n",
       "      <td>2021-01-04T12:00:00Z</td>\n",
       "    </tr>\n",
       "    <tr>\n",
       "      <th>5</th>\n",
       "      <td>2541</td>\n",
       "      <td>State Capitol @ 14th &amp; Colorado</td>\n",
       "      <td>closed</td>\n",
       "      <td>206 W. 14th St.</td>\n",
       "      <td></td>\n",
       "      <td></td>\n",
       "      <td></td>\n",
       "      <td></td>\n",
       "      <td></td>\n",
       "      <td></td>\n",
       "      <td></td>\n",
       "      <td></td>\n",
       "      <td>1</td>\n",
       "      <td>2021-01-04T12:00:00Z</td>\n",
       "    </tr>\n",
       "    <tr>\n",
       "      <th>6</th>\n",
       "      <td>2545</td>\n",
       "      <td>ACC - Rio Grande &amp; 12th</td>\n",
       "      <td>closed</td>\n",
       "      <td>700 W. 12th St.</td>\n",
       "      <td></td>\n",
       "      <td></td>\n",
       "      <td></td>\n",
       "      <td></td>\n",
       "      <td></td>\n",
       "      <td></td>\n",
       "      <td></td>\n",
       "      <td></td>\n",
       "      <td>9</td>\n",
       "      <td>2021-01-04T12:00:00Z</td>\n",
       "    </tr>\n",
       "    <tr>\n",
       "      <th>7</th>\n",
       "      <td>2502</td>\n",
       "      <td>Barton Springs &amp; Riverside</td>\n",
       "      <td>closed</td>\n",
       "      <td>400 Barton Springs Rd.</td>\n",
       "      <td></td>\n",
       "      <td></td>\n",
       "      <td></td>\n",
       "      <td></td>\n",
       "      <td></td>\n",
       "      <td></td>\n",
       "      <td></td>\n",
       "      <td>moved to Pedernales/2nd. Original city ID: 16729</td>\n",
       "      <td>9</td>\n",
       "      <td>2021-01-04T12:00:00Z</td>\n",
       "    </tr>\n",
       "    <tr>\n",
       "      <th>8</th>\n",
       "      <td>3687</td>\n",
       "      <td>Boardwalk West</td>\n",
       "      <td>active</td>\n",
       "      <td>300 E. Riverside Dr.</td>\n",
       "      <td></td>\n",
       "      <td>16683</td>\n",
       "      <td>parkland</td>\n",
       "      <td>9</td>\n",
       "      <td>solar</td>\n",
       "      <td>30.0</td>\n",
       "      <td>5.0</td>\n",
       "      <td></td>\n",
       "      <td>9</td>\n",
       "      <td>2021-01-04T12:00:00Z</td>\n",
       "    </tr>\n",
       "  </tbody>\n",
       "</table>\n",
       "</div>"
      ],
      "text/plain": [
       "   station_id                                   name  status   \n",
       "0        2500                        Republic Square  closed  \\\n",
       "1        2546               ACC - West & 12th Street  closed   \n",
       "2        2550  Republic Square @ Guadalupe & 4th St.  closed   \n",
       "3        2536                       Waller & 6th St.  closed   \n",
       "4        2538        Bullock Museum @ Congress & MLK  closed   \n",
       "5        2541        State Capitol @ 14th & Colorado  closed   \n",
       "6        2545                ACC - Rio Grande & 12th  closed   \n",
       "7        2502             Barton Springs & Riverside  closed   \n",
       "8        3687                         Boardwalk West  active   \n",
       "\n",
       "                        address alternate_name city_asset_number   \n",
       "0              425 W 4th Street                                   \\\n",
       "1                1231 West Ave.                                    \n",
       "2  Presented by Austin Ventures                                    \n",
       "3                602 Waller St.                                    \n",
       "4            1881 Congress Ave.                                    \n",
       "5               206 W. 14th St.                                    \n",
       "6               700 W. 12th St.                                    \n",
       "7        400 Barton Springs Rd.                                    \n",
       "8          300 E. Riverside Dr.                            16683   \n",
       "\n",
       "  property_type number_of_docks power_type footprint_length footprint_width   \n",
       "0                                                                            \\\n",
       "1                                                                             \n",
       "2                                                                             \n",
       "3                                                                             \n",
       "4                                                                             \n",
       "5                                                                             \n",
       "6                                                                             \n",
       "7                                                                             \n",
       "8      parkland               9      solar             30.0             5.0   \n",
       "\n",
       "                                              notes  council_district   \n",
       "0                                                                   9  \\\n",
       "1                                                                   9   \n",
       "2                                                                   9   \n",
       "3                                                                   3   \n",
       "4                                                                   1   \n",
       "5                                                                   1   \n",
       "6                                                                   9   \n",
       "7  moved to Pedernales/2nd. Original city ID: 16729                 9   \n",
       "8                                                                   9   \n",
       "\n",
       "          modified_date  \n",
       "0  2021-01-04T12:00:00Z  \n",
       "1  2021-01-04T12:00:00Z  \n",
       "2  2021-01-04T12:00:00Z  \n",
       "3  2021-01-04T12:00:00Z  \n",
       "4  2021-01-04T12:00:00Z  \n",
       "5  2021-01-04T12:00:00Z  \n",
       "6  2021-01-04T12:00:00Z  \n",
       "7  2021-01-04T12:00:00Z  \n",
       "8  2021-01-04T12:00:00Z  "
      ]
     },
     "execution_count": 60,
     "metadata": {},
     "output_type": "execute_result"
    }
   ],
   "source": [
    "pd.DataFrame(res.json())#.head()"
   ]
  },
  {
   "cell_type": "code",
   "execution_count": 41,
   "id": "cbef8eb3",
   "metadata": {},
   "outputs": [],
   "source": [
    "url = 'http://127.0.0.1:5000/trips/'\n",
    "res = requests.get(url)"
   ]
  },
  {
   "cell_type": "code",
   "execution_count": 42,
   "id": "1fc3b591",
   "metadata": {},
   "outputs": [
    {
     "data": {
      "text/plain": [
       "<Response [404]>"
      ]
     },
     "execution_count": 42,
     "metadata": {},
     "output_type": "execute_result"
    }
   ],
   "source": [
    "res"
   ]
  },
  {
   "cell_type": "code",
   "execution_count": null,
   "id": "a5613d92",
   "metadata": {},
   "outputs": [],
   "source": [
    "res.text"
   ]
  },
  {
   "cell_type": "code",
   "execution_count": null,
   "id": "c578dc48",
   "metadata": {},
   "outputs": [],
   "source": [
    "res.text"
   ]
  },
  {
   "cell_type": "code",
   "execution_count": null,
   "id": "a196af5e",
   "metadata": {},
   "outputs": [],
   "source": [
    "res.json()"
   ]
  },
  {
   "cell_type": "markdown",
   "id": "adbd0b76-5fa5-4b0e-acfa-85774528130f",
   "metadata": {},
   "source": [
    "## Static and Dynamic Endpoints"
   ]
  },
  {
   "cell_type": "markdown",
   "id": "479eec15-63e3-421a-8227-0d46b6a7349c",
   "metadata": {},
   "source": [
    "On previous part we already made several endpoints which control how our server will react whenever users access it. \n",
    "If we take a look at the endpoints, it's all static : \n",
    "- `@app.route('/')`\n",
    "- `@app.route('/home/')`\n",
    "- `@app.route('/stations/')`\n",
    "- `@app.route('/trips/')`\n",
    "\n",
    "\n",
    "What if, instead of getting all the stations information, we only wanted to read a specific station information of station_id 3464 ? \\\n",
    "should we make an excact endpoint of that like `@app.route('stations/3464')`?. But what about the others? are we going to make a bunch of endpoints for each specific id like: \n",
    "- `@app.route('/stations/3464')`\n",
    "- `@app.route('/stations/2500')`\n",
    "- `@app.route('/stations/2541')`\n",
    "- and so on...\n",
    "\n",
    "Of course we shouldn't. One way to overcome the problem is by delcaring a **dynamic endpoints**. Basically, it's an endpoint which allows user to insert a variable values in it. The final looks of the dynamic endpoint version of above problem is: \n",
    "- `@app.route('stations/<station_id>')`\n",
    "\n",
    "From above endpoint, the \\<station_id\\> is the variable, and we need to make sure that it influence how our following function acts. The whole dynamic endpoints for getting specific station by its id will looks like: \n",
    "\n",
    "```python \n",
    "@app.route('/stations/<station_id>')\n",
    "def route_stations_id(station_id):\n",
    "    conn = make_connection()\n",
    "    station = get_station_id(station_id, conn)\n",
    "    return station.to_json()\n",
    "```\n"
   ]
  },
  {
   "cell_type": "markdown",
   "id": "4a91fb67-4645-4097-b266-e1c8f77c8b5d",
   "metadata": {},
   "source": [
    "Before accesing the endpoint, make sure that `make_connection()` and `get_station_id()` functions are included inside `app.py` script so that it won't raise an error. Now for the final step, we can try to access the dynamic endpoints by changing the `station_id` in the following codes"
   ]
  },
  {
   "cell_type": "code",
   "execution_count": 6,
   "id": "3d97afd6-6673-46c2-9ea8-6920dca5eba4",
   "metadata": {},
   "outputs": [],
   "source": [
    "station_id = 2500\n",
    "url = f\"http://127.0.0.1:5000/stations/{station_id}\""
   ]
  },
  {
   "cell_type": "code",
   "execution_count": 7,
   "id": "18c66ee0",
   "metadata": {},
   "outputs": [
    {
     "data": {
      "text/plain": [
       "'http://127.0.0.1:5000/stations/2500'"
      ]
     },
     "execution_count": 7,
     "metadata": {},
     "output_type": "execute_result"
    }
   ],
   "source": [
    "url"
   ]
  },
  {
   "cell_type": "code",
   "execution_count": null,
   "id": "c948b850-fd61-4e3c-9b54-45c8741c3d21",
   "metadata": {},
   "outputs": [],
   "source": [
    "response = requests.get(url)\n",
    "pd.DataFrame(response.json())"
   ]
  },
  {
   "cell_type": "markdown",
   "id": "7c5ca64f-b5ae-4fe3-890f-71419a69bfa3",
   "metadata": {},
   "source": [
    "**TASK: Implement dynamic endpoints to read specific trip by its trip_id!** \\\n",
    "Place it under `@app.route('/trips/<trip_id>')` endpoint"
   ]
  },
  {
   "cell_type": "code",
   "execution_count": null,
   "id": "b5dc3431",
   "metadata": {},
   "outputs": [],
   "source": [
    "#your code\n",
    "from flask import Flask, request\n",
    "import sqlite3\n",
    "import requests\n",
    "from tqdm import tqdm\n",
    "import json \n",
    "import numpy as np\n",
    "import pandas as pd\n",
    "\n",
    "app = Flask(__name__) \n",
    "\n",
    "@app.route('/')\n",
    "@app.route('/homepage')\n",
    "def home():\n",
    "    return 'Hello World'\n",
    "\n",
    "@app.route('/trips/')\n",
    "def route_all_trips():\n",
    "    conn = make_connection()\n",
    "    trips = get_all_trips(conn)\n",
    "    return trips.to_json()\n",
    "\n",
    "@app.route('/trips/<id>') # rute dinamis\n",
    "def route_id(id):\n",
    "    conn = make_connection()\n",
    "    trips = get_id(id, conn)\n",
    "    return trips.to_json()\n",
    "\n",
    "\n",
    "################ Functions ################\n",
    "\n",
    "\n",
    "def get_all_trips(conn):\n",
    "    query = f\"\"\"SELECT * FROM trips\"\"\"\n",
    "    result = pd.read_sql_query(query, conn)\n",
    "    return result\n",
    "\n",
    "def get_id(id, conn):\n",
    "    query = f\"\"\"SELECT * FROM trips WHERE id = {id}\"\"\"\n",
    "    result = pd.read_sql_query(query, conn)\n",
    "    return result \n",
    "\n",
    "def make_connection():\n",
    "    connection = sqlite3.connect('austin_bikeshare.db')\n",
    "    return connection\n",
    "\n",
    "\n",
    "if __name__ == '__main__':\n",
    "    app.run(debug=True, port=5000)"
   ]
  },
  {
   "cell_type": "code",
   "execution_count": 9,
   "id": "e9c6a5f2",
   "metadata": {},
   "outputs": [],
   "source": [
    "id = 9900288008\n",
    "url1 = f\"http://127.0.0.1:5000/trips/{id}\""
   ]
  },
  {
   "cell_type": "code",
   "execution_count": 10,
   "id": "cb283ea7",
   "metadata": {},
   "outputs": [
    {
     "data": {
      "text/plain": [
       "'http://127.0.0.1:5000/trips/9900288008'"
      ]
     },
     "execution_count": 10,
     "metadata": {},
     "output_type": "execute_result"
    }
   ],
   "source": [
    "url1"
   ]
  },
  {
   "cell_type": "code",
   "execution_count": null,
   "id": "72bac623",
   "metadata": {},
   "outputs": [],
   "source": [
    "response = requests.get(url1)\n",
    "pd.DataFrame(response.json())"
   ]
  },
  {
   "cell_type": "code",
   "execution_count": null,
   "id": "55bca464",
   "metadata": {},
   "outputs": [],
   "source": [
    "response = requests.get(url)\n",
    "pd.DataFrame(response.json())"
   ]
  },
  {
   "cell_type": "markdown",
   "id": "52ec2ce8-6950-4c20-9bdb-38e35311d26a",
   "metadata": {},
   "source": [
    "## Handling JSON data as input"
   ]
  },
  {
   "cell_type": "markdown",
   "id": "d694cb3a-c753-4aeb-880f-458236146532",
   "metadata": {},
   "source": [
    "Sometimes, in order to make something happens in our API, we need the user to send us the data. In this case, we need to handle how we can get the data (which mostly sent as json format) and utilize it inside our endpoint functions. \n",
    "\n",
    "In order to achieve that, we will be using flask's `request` classes.\n",
    "\n",
    "\n",
    "```python\n",
    "@app.route('/json', methods=['POST']) \n",
    "def json_example():\n",
    "    \n",
    "    req = request.get_json(force=True) # Parse the incoming json data as Dictionary\n",
    "    \n",
    "    name = req['name']\n",
    "    age = req['age']\n",
    "    address = req['address']\n",
    "    \n",
    "    return (f'''Hello {name}, your age is {age}, and your address in {address}\n",
    "            ''')\n",
    "```"
   ]
  },
  {
   "cell_type": "code",
   "execution_count": 2,
   "id": "33519e1a-3cd1-4abc-9a20-c2d981fad894",
   "metadata": {},
   "outputs": [],
   "source": [
    "data = {\n",
    "    \"name\" : \"Andi\", \n",
    "    \"age\" : 24,\n",
    "    \"address\" : \"my adress\"\n",
    "}\n",
    "\n",
    "url = \"http://127.0.0.1:5000/json\""
   ]
  },
  {
   "cell_type": "code",
   "execution_count": 3,
   "id": "7502a8c2",
   "metadata": {},
   "outputs": [],
   "source": [
    "res = requests.get(url, json=data)"
   ]
  },
  {
   "cell_type": "code",
   "execution_count": 4,
   "id": "9b66724f-6439-4aec-a8b5-48b4a781521b",
   "metadata": {},
   "outputs": [],
   "source": [
    "res = requests.post(url, json=data)"
   ]
  },
  {
   "cell_type": "code",
   "execution_count": 5,
   "id": "3e0f21c9-402a-4b12-bcc7-4c4534f23e5c",
   "metadata": {},
   "outputs": [
    {
     "data": {
      "text/plain": [
       "<Response [200]>"
      ]
     },
     "execution_count": 5,
     "metadata": {},
     "output_type": "execute_result"
    }
   ],
   "source": [
    "res"
   ]
  },
  {
   "cell_type": "code",
   "execution_count": 6,
   "id": "59d76173-58d9-4e38-a50d-a1ac72c3519f",
   "metadata": {},
   "outputs": [
    {
     "data": {
      "text/plain": [
       "'Hello Andi, your age is 24, and your address in my adress\\n            '"
      ]
     },
     "execution_count": 6,
     "metadata": {},
     "output_type": "execute_result"
    }
   ],
   "source": [
    "res.text"
   ]
  },
  {
   "cell_type": "markdown",
   "id": "188e3467-bff8-4919-bc90-a86cb8c4eaff",
   "metadata": {},
   "source": [
    "Now that we already know how to handle json input, we can try to implement and endpoint in which we can insert new data into `stations` table. "
   ]
  },
  {
   "cell_type": "code",
   "execution_count": null,
   "id": "16b50555",
   "metadata": {},
   "outputs": [],
   "source": [
    "stations.iloc[25].fillna('').to_disct()"
   ]
  },
  {
   "cell_type": "markdown",
   "id": "1729b881-beac-48ef-bc19-01cda9a6d77a",
   "metadata": {},
   "source": [
    "```python\n",
    "\n",
    "@app.route('/stations/add', methods=['POST']) \n",
    "def route_add_station():\n",
    "    # parse and transform incoming data into a tuple as we need \n",
    "    data = pd.Series(eval(request.get_json(force=True)))\n",
    "    data = tuple(data.fillna('').values)\n",
    "    \n",
    "    conn = make_connection()\n",
    "    result = insert_into_stations(data, conn)\n",
    "    return result\n",
    "\n",
    "\n",
    "```"
   ]
  },
  {
   "cell_type": "code",
   "execution_count": 102,
   "id": "d5466a92",
   "metadata": {},
   "outputs": [],
   "source": [
    "data = stations.iloc[25].fillna('').to_dict()"
   ]
  },
  {
   "cell_type": "code",
   "execution_count": 81,
   "id": "d68bb842",
   "metadata": {},
   "outputs": [
    {
     "data": {
      "text/plain": [
       "'{\"station_id\": 3687, \"name\": \"Boardwalk West\", \"status\": \"active\", \"address\": \"300 E. Riverside Dr.\", \"alternate_name\": \"\", \"city_asset_number\": 16683.0, \"property_type\": \"parkland\", \"number_of_docks\": 9.0, \"power_type\": \"solar\", \"footprint_length\": 30.0, \"footprint_width\": 5.0, \"notes\": \"\", \"council_district\": 9, \"modified_date\": \"2021-01-04T12:00:00Z\"}'"
      ]
     },
     "execution_count": 81,
     "metadata": {},
     "output_type": "execute_result"
    }
   ],
   "source": [
    "json.dumps(data)"
   ]
  },
  {
   "cell_type": "code",
   "execution_count": 14,
   "id": "00348fc5-105b-41c7-a5e6-e69e1c19b4fa",
   "metadata": {},
   "outputs": [],
   "source": [
    "class NpEncoder(json.JSONEncoder):\n",
    "    def default(self, obj):\n",
    "        if isinstance(obj, np.integer):\n",
    "            return int(obj)\n",
    "        if isinstance(obj, np.floating):\n",
    "            return float(obj)\n",
    "        if isinstance(obj, np.ndarray):\n",
    "            return obj.tolist()\n",
    "        return super(NpEncoder, self).default(obj)"
   ]
  },
  {
   "cell_type": "code",
   "execution_count": 104,
   "id": "12746054-6c95-4a95-a6a0-37a2dc24c347",
   "metadata": {},
   "outputs": [],
   "source": [
    "data = stations.iloc[25].fillna('').to_dict()\n",
    "data_json = json.dumps(data, cls=NpEncoder)"
   ]
  },
  {
   "cell_type": "code",
   "execution_count": 105,
   "id": "9a74266f",
   "metadata": {},
   "outputs": [
    {
     "data": {
      "text/plain": [
       "'{\"station_id\": 2574, \"name\": \"Zilker Park\", \"status\": \"active\", \"address\": \"Barton Springs Rd\", \"alternate_name\": \"Zilker Park at Barton Springs and William Burton Drive\", \"city_asset_number\": 16759.0, \"property_type\": \"parkland\", \"number_of_docks\": 17.0, \"power_type\": \"solar\", \"footprint_length\": 50.0, \"footprint_width\": 5.0, \"notes\": \"parkland at ROW/easement\", \"council_district\": 8, \"modified_date\": \"2021-01-04T12:00:00Z\"}'"
      ]
     },
     "execution_count": 105,
     "metadata": {},
     "output_type": "execute_result"
    }
   ],
   "source": [
    "data_json"
   ]
  },
  {
   "cell_type": "code",
   "execution_count": 106,
   "id": "b9eef315-96d2-46e3-b5ab-07d34e299629",
   "metadata": {},
   "outputs": [],
   "source": [
    "url = \"http://127.0.0.1:5000/stations/add\"\n",
    "res = requests.post(url, json=data_json)"
   ]
  },
  {
   "cell_type": "code",
   "execution_count": 107,
   "id": "fa80e62f-75c4-47f5-a0fb-3eaa08200b66",
   "metadata": {},
   "outputs": [
    {
     "data": {
      "text/plain": [
       "<Response [200]>"
      ]
     },
     "execution_count": 107,
     "metadata": {},
     "output_type": "execute_result"
    }
   ],
   "source": [
    "res"
   ]
  },
  {
   "cell_type": "code",
   "execution_count": 108,
   "id": "8996edb2",
   "metadata": {},
   "outputs": [
    {
     "data": {
      "text/plain": [
       "'Error'"
      ]
     },
     "execution_count": 108,
     "metadata": {},
     "output_type": "execute_result"
    }
   ],
   "source": [
    "res.text"
   ]
  },
  {
   "cell_type": "code",
   "execution_count": 78,
   "id": "9f065c4d",
   "metadata": {},
   "outputs": [
    {
     "data": {
      "text/plain": [
       "station_id                              1004\n",
       "name                 Red River & LBJ Library\n",
       "status                                closed\n",
       "address                2322 Red River Street\n",
       "alternate_name                           NaN\n",
       "city_asset_number                        NaN\n",
       "property_type                            NaN\n",
       "number_of_docks                          NaN\n",
       "power_type                               NaN\n",
       "footprint_length                         NaN\n",
       "footprint_width                          NaN\n",
       "notes                                    NaN\n",
       "council_district                           1\n",
       "modified_date           2021-01-04T12:00:00Z\n",
       "Name: 15, dtype: object"
      ]
     },
     "execution_count": 78,
     "metadata": {},
     "output_type": "execute_result"
    }
   ],
   "source": [
    "stations.iloc[15]"
   ]
  },
  {
   "cell_type": "code",
   "execution_count": null,
   "id": "7a0d3ece-e370-4861-9c03-31361c394c01",
   "metadata": {},
   "outputs": [],
   "source": [
    "# Sintaks for iteratively insert stations (from stations_csv) into stations table\n",
    "for idx, data in tqdm(stations.iterrows()):\n",
    "    data = data.fillna('').to_dict()\n",
    "    data_json = json.dumps(data, cls=NpEncoder)\n",
    "    \n",
    "    url = \"http://127.0.0.1:5000/stations/add\"\n",
    "    res = requests.post(url, json=data_json)"
   ]
  },
  {
   "cell_type": "markdown",
   "id": "f7d0f146-9af5-4873-816e-d7a1990d0d2e",
   "metadata": {},
   "source": [
    "**TASK: Using the API, insert all the trips data (in csv) into the database by running the following codes**\\\n",
    "It might run differently on each devices, so you might get some rest while waiting for it to complete"
   ]
  },
  {
   "cell_type": "code",
   "execution_count": 83,
   "id": "07f969e4",
   "metadata": {},
   "outputs": [
    {
     "data": {
      "text/plain": [
       "trip_id                              23421503\n",
       "subscriber_type                      Local365\n",
       "bikeid                                  16288\n",
       "start_time            2021-01-16 18:56:43 UTC\n",
       "start_station_id                       3660.0\n",
       "start_station_name            East 6th/Medina\n",
       "end_station_id                         4050.0\n",
       "end_station_name                 5th/Campbell\n",
       "duration_minutes                           21\n",
       "Name: 15, dtype: object"
      ]
     },
     "execution_count": 83,
     "metadata": {},
     "output_type": "execute_result"
    }
   ],
   "source": [
    "trips.iloc[15]"
   ]
  },
  {
   "cell_type": "code",
   "execution_count": 20,
   "id": "9ada4d47",
   "metadata": {},
   "outputs": [],
   "source": [
    "data = trips.iloc[25].fillna('').to_dict()"
   ]
  },
  {
   "cell_type": "code",
   "execution_count": null,
   "id": "f943160a-230d-4548-8685-25c17d8f0641",
   "metadata": {},
   "outputs": [],
   "source": [
    "for idx, data in tqdm(trips.iterrows()):\n",
    "    data = data.fillna('').to_dict()\n",
    "    data_json = json.dumps(data, cls=NpEncoder)\n",
    "    \n",
    "    url = \"http://127.0.0.1:5000/trips/add\"\n",
    "    res = requests.post(url, json=data_json)"
   ]
  },
  {
   "cell_type": "code",
   "execution_count": 24,
   "id": "5d77e13f",
   "metadata": {},
   "outputs": [
    {
     "data": {
      "text/plain": [
       "'{\"trip_id\": 23459963, \"subscriber_type\": \"Local365\", \"bikeid\": \"16337\", \"start_time\": \"2021-01-28 08:06:10 UTC\", \"start_station_id\": 4048.0, \"start_station_name\": \"South Congress @ Bouldin Creek\", \"end_station_id\": 3390.0, \"end_station_name\": \"6th/Brazos\", \"duration_minutes\": 6}'"
      ]
     },
     "execution_count": 24,
     "metadata": {},
     "output_type": "execute_result"
    }
   ],
   "source": [
    "json.dumps(data)"
   ]
  },
  {
   "cell_type": "code",
   "execution_count": 22,
   "id": "06f77ef0",
   "metadata": {},
   "outputs": [],
   "source": [
    "class NpEncoder(json.JSONEncoder):\n",
    "    def default(self, obj):\n",
    "        if isinstance(obj, np.integer):\n",
    "            return int(obj)\n",
    "        if isinstance(obj, np.floating):\n",
    "            return float(obj)\n",
    "        if isinstance(obj, np.ndarray):\n",
    "            return obj.tolist()\n",
    "        return super(NpEncoder, self).default(obj)"
   ]
  },
  {
   "cell_type": "code",
   "execution_count": 25,
   "id": "4a7b73da",
   "metadata": {},
   "outputs": [],
   "source": [
    "data = trips.iloc[55].fillna('').to_dict()\n",
    "data_json = json.dumps(data, cls=NpEncoder)"
   ]
  },
  {
   "cell_type": "code",
   "execution_count": 26,
   "id": "d243fc89",
   "metadata": {},
   "outputs": [
    {
     "data": {
      "text/plain": [
       "'{\"trip_id\": 23395380, \"subscriber_type\": \"Local31\", \"bikeid\": \"938\", \"start_time\": \"2021-01-08 14:02:43 UTC\", \"start_station_id\": 4054.0, \"start_station_name\": \"Rosewood/Chicon\", \"end_station_id\": 4047.0, \"end_station_name\": \"8th/Lavaca\", \"duration_minutes\": 11}'"
      ]
     },
     "execution_count": 26,
     "metadata": {},
     "output_type": "execute_result"
    }
   ],
   "source": [
    "data_json"
   ]
  },
  {
   "cell_type": "code",
   "execution_count": 97,
   "id": "e11cc7bb",
   "metadata": {},
   "outputs": [],
   "source": [
    "url = \"http://127.0.0.1:5000/trips/add\"\n",
    "res = requests.post(url, json=data_json)"
   ]
  },
  {
   "cell_type": "code",
   "execution_count": 98,
   "id": "7f4adf19",
   "metadata": {},
   "outputs": [
    {
     "data": {
      "text/plain": [
       "<Response [200]>"
      ]
     },
     "execution_count": 98,
     "metadata": {},
     "output_type": "execute_result"
    }
   ],
   "source": [
    "res"
   ]
  },
  {
   "cell_type": "code",
   "execution_count": 99,
   "id": "006f680b",
   "metadata": {},
   "outputs": [
    {
     "data": {
      "text/plain": [
       "'Error'"
      ]
     },
     "execution_count": 99,
     "metadata": {},
     "output_type": "execute_result"
    }
   ],
   "source": [
    "res.text"
   ]
  },
  {
   "cell_type": "code",
   "execution_count": null,
   "id": "60f59c51",
   "metadata": {},
   "outputs": [],
   "source": [
    "# Sintaks for iteratively insert trips (from trips_csv) into stations table\n",
    "for idx, data in tqdm(trips.iterrows()):\n",
    "    data = data.fillna('').to_dict()\n",
    "    data_json = json.dumps(data, cls=NpEncoder)\n",
    "    \n",
    "    url = \"http://127.0.0.1:5000/trips/add\"\n",
    "    res = requests.post(url, json=data_json)"
   ]
  },
  {
   "cell_type": "code",
   "execution_count": 13,
   "id": "9fef5c48",
   "metadata": {},
   "outputs": [
    {
     "data": {
      "text/plain": [
       "'OK'"
      ]
     },
     "execution_count": 13,
     "metadata": {},
     "output_type": "execute_result"
    }
   ],
   "source": [
    "res.text"
   ]
  },
  {
   "cell_type": "markdown",
   "id": "e9ca0d0f-f38d-4ce2-b7e2-961452ab315e",
   "metadata": {},
   "source": [
    "# Make your own analytic endpoints"
   ]
  },
  {
   "cell_type": "markdown",
   "id": "7a8500f2-9e2f-4515-8ce1-ce4a581132b5",
   "metadata": {},
   "source": [
    "Based on what we've learned before, create your own endpoints which returns analytical result such as contigency tables, aggregation tables, or even just a values.\n",
    "\n",
    "*ps: if the return is dataframe/series, don't forget to change it into json with `.to_json()` method*"
   ]
  },
  {
   "cell_type": "markdown",
   "id": "ce22ac68-1a8d-4030-9a9a-1764a074dde5",
   "metadata": {},
   "source": [
    "\n",
    "- [x] 1 point - Created Flask App\n",
    "- [x] 2 points - Created functionality to read or get specific data from the database\n",
    "- [x] 4 points - Created functionality to input new data into each table for the databases\n",
    "- [ ] 3 points - Created static endpoints which return analytical result (must be different from point 2,3)\n",
    "- [ ] 3 points - Created dynamic endpoints which return analytical result (must be different from point 2,3,4)\n",
    "- [ ] 3 points - Created POST endpoint which receive input data, then utilize it to get analytical result (must be different from point 2,3,4,5)\n"
   ]
  },
  {
   "cell_type": "markdown",
   "id": "9349b196-e43e-4bbc-8d71-75c2f957d9af",
   "metadata": {},
   "source": [
    "## Create Static Endpoint(s)"
   ]
  },
  {
   "attachments": {},
   "cell_type": "markdown",
   "id": "0ba0e764-89a5-4189-a24a-837c8fbf304c",
   "metadata": {},
   "source": [
    "You can use the following cell to try-out your function before implementing it as an endpoint.\n",
    "\n",
    "After created the endpoint, make sure to implement it to `app.py` file."
   ]
  },
  {
   "cell_type": "markdown",
   "id": "8867038e-0ad4-4ea3-94e6-6cf904ea18a8",
   "metadata": {},
   "source": [
    "**Your Code Here**\n",
    "\n",
    "```python\n",
    "# example of analytical static endpoint\n",
    "@app.route('/trips/average_duration') \n",
    "    # your code\n",
    "```"
   ]
  },
  {
   "cell_type": "code",
   "execution_count": null,
   "id": "c77af97f",
   "metadata": {},
   "outputs": [],
   "source": [
    "@app.route('/trips/average_duration') \n"
   ]
  },
  {
   "cell_type": "code",
   "execution_count": null,
   "id": "a53d6eb8",
   "metadata": {},
   "outputs": [],
   "source": [
    "@app.route('/trips/average_duration/<bikeid>') "
   ]
  },
  {
   "cell_type": "markdown",
   "id": "d00f1208",
   "metadata": {},
   "source": [
    "**TEST YOUR ENDPOINT**\n",
    "\n",
    "After implement it to `app.py` file, **test and implement** your **static endpoint** with the following cells."
   ]
  },
  {
   "cell_type": "code",
   "execution_count": 88,
   "id": "b4a53f47",
   "metadata": {},
   "outputs": [
    {
     "data": {
      "text/plain": [
       "<Response [200]>"
      ]
     },
     "execution_count": 88,
     "metadata": {},
     "output_type": "execute_result"
    }
   ],
   "source": [
    "url = 'http://127.0.0.1:5000/trips/average_duration'\n",
    "res = requests.get(url)\n",
    "res"
   ]
  },
  {
   "cell_type": "code",
   "execution_count": 45,
   "id": "f3f184a8",
   "metadata": {},
   "outputs": [
    {
     "data": {
      "text/html": [
       "<div>\n",
       "<style scoped>\n",
       "    .dataframe tbody tr th:only-of-type {\n",
       "        vertical-align: middle;\n",
       "    }\n",
       "\n",
       "    .dataframe tbody tr th {\n",
       "        vertical-align: top;\n",
       "    }\n",
       "\n",
       "    .dataframe thead th {\n",
       "        text-align: right;\n",
       "    }\n",
       "</style>\n",
       "<table border=\"1\" class=\"dataframe\">\n",
       "  <thead>\n",
       "    <tr style=\"text-align: right;\">\n",
       "      <th></th>\n",
       "      <th>id</th>\n",
       "      <th>subscriber_type</th>\n",
       "      <th>bikeid</th>\n",
       "      <th>start_time</th>\n",
       "      <th>start_station_id</th>\n",
       "      <th>start_station_name</th>\n",
       "      <th>end_station_id</th>\n",
       "      <th>end_station_name</th>\n",
       "      <th>duration_minutes</th>\n",
       "    </tr>\n",
       "  </thead>\n",
       "  <tbody>\n",
       "    <tr>\n",
       "      <th>0</th>\n",
       "      <td>9900289692</td>\n",
       "      <td>Walk Up</td>\n",
       "      <td>248</td>\n",
       "      <td>2015-10-02 21:12:01 UTC</td>\n",
       "      <td>1006</td>\n",
       "      <td>Zilker Park West</td>\n",
       "      <td>1008</td>\n",
       "      <td>Nueces @ 3rd</td>\n",
       "      <td>39</td>\n",
       "    </tr>\n",
       "    <tr>\n",
       "      <th>1</th>\n",
       "      <td>9900285987</td>\n",
       "      <td>24-Hour Kiosk (Austin B-cycle)</td>\n",
       "      <td>446</td>\n",
       "      <td>2014-10-26 15:12:00 UTC</td>\n",
       "      <td>2712</td>\n",
       "      <td>Toomey Rd @ South Lamar</td>\n",
       "      <td>2712</td>\n",
       "      <td>Toomey Rd @ South Lamar</td>\n",
       "      <td>31</td>\n",
       "    </tr>\n",
       "    <tr>\n",
       "      <th>2</th>\n",
       "      <td>9900285989</td>\n",
       "      <td>24-Hour Kiosk (Austin B-cycle)</td>\n",
       "      <td>203</td>\n",
       "      <td>2014-10-26 15:12:00 UTC</td>\n",
       "      <td>2712</td>\n",
       "      <td>Toomey Rd @ South Lamar</td>\n",
       "      <td>2712</td>\n",
       "      <td>Toomey Rd @ South Lamar</td>\n",
       "      <td>31</td>\n",
       "    </tr>\n",
       "    <tr>\n",
       "      <th>3</th>\n",
       "      <td>9900285991</td>\n",
       "      <td>24-Hour Kiosk (Austin B-cycle)</td>\n",
       "      <td>101</td>\n",
       "      <td>2014-10-26 15:12:00 UTC</td>\n",
       "      <td>2712</td>\n",
       "      <td>Toomey Rd @ South Lamar</td>\n",
       "      <td>2712</td>\n",
       "      <td>Toomey Rd @ South Lamar</td>\n",
       "      <td>30</td>\n",
       "    </tr>\n",
       "    <tr>\n",
       "      <th>4</th>\n",
       "      <td>9900286140</td>\n",
       "      <td>24-Hour Kiosk (Austin B-cycle)</td>\n",
       "      <td>242</td>\n",
       "      <td>2014-10-26 18:12:00 UTC</td>\n",
       "      <td>2541</td>\n",
       "      <td>State Capitol @ 14th &amp; Colorado</td>\n",
       "      <td>2541</td>\n",
       "      <td>State Capitol @ 14th &amp; Colorado</td>\n",
       "      <td>19</td>\n",
       "    </tr>\n",
       "    <tr>\n",
       "      <th>...</th>\n",
       "      <td>...</td>\n",
       "      <td>...</td>\n",
       "      <td>...</td>\n",
       "      <td>...</td>\n",
       "      <td>...</td>\n",
       "      <td>...</td>\n",
       "      <td>...</td>\n",
       "      <td>...</td>\n",
       "      <td>...</td>\n",
       "    </tr>\n",
       "    <tr>\n",
       "      <th>1342061</th>\n",
       "      <td>23515345</td>\n",
       "      <td>Local365</td>\n",
       "      <td>19476</td>\n",
       "      <td>2021-02-13 14:17:15 UTC</td>\n",
       "      <td>3838</td>\n",
       "      <td>26th/Nueces</td>\n",
       "      <td>3841</td>\n",
       "      <td>23rd/Rio Grande</td>\n",
       "      <td>62</td>\n",
       "    </tr>\n",
       "    <tr>\n",
       "      <th>1342062</th>\n",
       "      <td>23553979</td>\n",
       "      <td>Local365</td>\n",
       "      <td>19418</td>\n",
       "      <td>2021-02-26 18:12:13 UTC</td>\n",
       "      <td>3838</td>\n",
       "      <td>26th/Nueces</td>\n",
       "      <td>3841</td>\n",
       "      <td>23rd/Rio Grande</td>\n",
       "      <td>4</td>\n",
       "    </tr>\n",
       "    <tr>\n",
       "      <th>1342063</th>\n",
       "      <td>23499655</td>\n",
       "      <td>U.T. Student Membership</td>\n",
       "      <td>21553</td>\n",
       "      <td>2021-02-07 17:15:29 UTC</td>\n",
       "      <td>3838</td>\n",
       "      <td>26th/Nueces</td>\n",
       "      <td>3841</td>\n",
       "      <td>23rd/Rio Grande</td>\n",
       "      <td>3</td>\n",
       "    </tr>\n",
       "    <tr>\n",
       "      <th>1342064</th>\n",
       "      <td>23538444</td>\n",
       "      <td>U.T. Student Membership</td>\n",
       "      <td>2147</td>\n",
       "      <td>2021-02-22 20:52:06 UTC</td>\n",
       "      <td>3838</td>\n",
       "      <td>26th/Nueces</td>\n",
       "      <td>3841</td>\n",
       "      <td>23rd/Rio Grande</td>\n",
       "      <td>704</td>\n",
       "    </tr>\n",
       "    <tr>\n",
       "      <th>1342065</th>\n",
       "      <td>23536417</td>\n",
       "      <td>Local365</td>\n",
       "      <td>16410</td>\n",
       "      <td>2021-02-22 13:41:36 UTC</td>\n",
       "      <td>3838</td>\n",
       "      <td>26th/Nueces</td>\n",
       "      <td>3841</td>\n",
       "      <td>23rd/Rio Grande</td>\n",
       "      <td>63</td>\n",
       "    </tr>\n",
       "  </tbody>\n",
       "</table>\n",
       "<p>1342066 rows × 9 columns</p>\n",
       "</div>"
      ],
      "text/plain": [
       "                 id                 subscriber_type bikeid   \n",
       "0        9900289692                         Walk Up    248  \\\n",
       "1        9900285987  24-Hour Kiosk (Austin B-cycle)    446   \n",
       "2        9900285989  24-Hour Kiosk (Austin B-cycle)    203   \n",
       "3        9900285991  24-Hour Kiosk (Austin B-cycle)    101   \n",
       "4        9900286140  24-Hour Kiosk (Austin B-cycle)    242   \n",
       "...             ...                             ...    ...   \n",
       "1342061    23515345                        Local365  19476   \n",
       "1342062    23553979                        Local365  19418   \n",
       "1342063    23499655         U.T. Student Membership  21553   \n",
       "1342064    23538444         U.T. Student Membership   2147   \n",
       "1342065    23536417                        Local365  16410   \n",
       "\n",
       "                      start_time start_station_id   \n",
       "0        2015-10-02 21:12:01 UTC             1006  \\\n",
       "1        2014-10-26 15:12:00 UTC             2712   \n",
       "2        2014-10-26 15:12:00 UTC             2712   \n",
       "3        2014-10-26 15:12:00 UTC             2712   \n",
       "4        2014-10-26 18:12:00 UTC             2541   \n",
       "...                          ...              ...   \n",
       "1342061  2021-02-13 14:17:15 UTC             3838   \n",
       "1342062  2021-02-26 18:12:13 UTC             3838   \n",
       "1342063  2021-02-07 17:15:29 UTC             3838   \n",
       "1342064  2021-02-22 20:52:06 UTC             3838   \n",
       "1342065  2021-02-22 13:41:36 UTC             3838   \n",
       "\n",
       "                      start_station_name end_station_id   \n",
       "0                       Zilker Park West           1008  \\\n",
       "1                Toomey Rd @ South Lamar           2712   \n",
       "2                Toomey Rd @ South Lamar           2712   \n",
       "3                Toomey Rd @ South Lamar           2712   \n",
       "4        State Capitol @ 14th & Colorado           2541   \n",
       "...                                  ...            ...   \n",
       "1342061                      26th/Nueces           3841   \n",
       "1342062                      26th/Nueces           3841   \n",
       "1342063                      26th/Nueces           3841   \n",
       "1342064                      26th/Nueces           3841   \n",
       "1342065                      26th/Nueces           3841   \n",
       "\n",
       "                        end_station_name  duration_minutes  \n",
       "0                           Nueces @ 3rd                39  \n",
       "1                Toomey Rd @ South Lamar                31  \n",
       "2                Toomey Rd @ South Lamar                31  \n",
       "3                Toomey Rd @ South Lamar                30  \n",
       "4        State Capitol @ 14th & Colorado                19  \n",
       "...                                  ...               ...  \n",
       "1342061                  23rd/Rio Grande                62  \n",
       "1342062                  23rd/Rio Grande                 4  \n",
       "1342063                  23rd/Rio Grande                 3  \n",
       "1342064                  23rd/Rio Grande               704  \n",
       "1342065                  23rd/Rio Grande                63  \n",
       "\n",
       "[1342066 rows x 9 columns]"
      ]
     },
     "execution_count": 45,
     "metadata": {},
     "output_type": "execute_result"
    }
   ],
   "source": [
    "# show the result as dataframe\n",
    "pd.DataFrame(res.json())"
   ]
  },
  {
   "cell_type": "markdown",
   "id": "3f1c8d87-b066-48dc-b9db-2339aa3693db",
   "metadata": {},
   "source": [
    "## Create Dynamic Endpoints "
   ]
  },
  {
   "attachments": {},
   "cell_type": "markdown",
   "id": "46eecec9-49c8-4c02-835a-cb4a813c41ad",
   "metadata": {},
   "source": [
    "You can use the following cell to try-out your function before implementing it as an endpoint.\n",
    "\n",
    "After created the endpoint, make sure to implement it to `app.py` file."
   ]
  },
  {
   "cell_type": "markdown",
   "id": "9918b0ea-11df-4a03-af50-7138266a4072",
   "metadata": {},
   "source": [
    "**Your Code Here**\n",
    "\n",
    "```python\n",
    "# example of analytical dynamic endpoint\n",
    "@app.route('/trips/average_duration/<bike_id>')\n",
    "    # code here\n",
    "```"
   ]
  },
  {
   "cell_type": "markdown",
   "id": "b78d0c93",
   "metadata": {},
   "source": [
    "**TEST YOUR ENDPOINT**\n",
    "\n",
    "After implement it to `app.py` file, **test and implement** your **dynamic endpoint** with the following cells."
   ]
  },
  {
   "cell_type": "code",
   "execution_count": null,
   "id": "f83d5564",
   "metadata": {},
   "outputs": [],
   "source": [
    "# test dynamic endpoint\n",
    "url = 'http://127.0.0.1:5000/<your_endpoint>/<dynamic_endpoint>'\n",
    "res = requests.get(url)\n",
    "res"
   ]
  },
  {
   "cell_type": "code",
   "execution_count": null,
   "id": "feeacd35",
   "metadata": {},
   "outputs": [],
   "source": [
    "# test dynamic endpoint\n",
    "url = 'http://127.0.0.1:5000/trips/average_duration/<duration_minutes>'\n",
    "res = requests.get(url)\n",
    "res"
   ]
  },
  {
   "cell_type": "code",
   "execution_count": null,
   "id": "bf04cb05",
   "metadata": {},
   "outputs": [],
   "source": [
    "response = request.get(url)\n",
    "pd.DataFrame(response.json)"
   ]
  },
  {
   "cell_type": "code",
   "execution_count": null,
   "id": "409c6edd",
   "metadata": {},
   "outputs": [],
   "source": [
    "res.text"
   ]
  },
  {
   "cell_type": "code",
   "execution_count": null,
   "id": "95b822f1",
   "metadata": {},
   "outputs": [],
   "source": [
    "# show the result as dataframe\n",
    "pd.DataFrame(res.json())"
   ]
  },
  {
   "cell_type": "markdown",
   "id": "712aeb14-8f96-4df5-a2eb-5a42e083dddc",
   "metadata": {},
   "source": [
    "## Create POST Endpoints"
   ]
  },
  {
   "attachments": {},
   "cell_type": "markdown",
   "id": "d518c6a2-6fc7-4eb0-91a7-c7ba25db5bce",
   "metadata": {},
   "source": [
    "You can use the following cell to try-out your function before implementing it as an endpoint.\n",
    "\n",
    "If you still find it quite difficult, here's an example case you might wanted to try on:\n",
    "- input : a dictionary contained a datetime period\n",
    "    - { \"period\" : \"2015-08\" }\n",
    "- output:\n",
    "    - Aggregation table of bike rent activities for each station in that specific period\n",
    "- example code: \n",
    "\n",
    "```python \n",
    "input_data = request.get_json() # Get the input as dictionary\n",
    "specified_date = input_data['period'] # Select specific items (period) from the dictionary (the value will be \"2015-08\")\n",
    "\n",
    "# Subset the data with query \n",
    "conn = make_connection()\n",
    "query = f\"SELECT * FROM stations WHERE start_time LIKE ({specified_date}%)\"\n",
    "selected_data = pd.read_sql_query(query, conn)\n",
    "\n",
    "# Make the aggregate\n",
    "result = selected_data.groupby('start_station_id').agg({\n",
    "    'bikeid' : 'count', \n",
    "    'duration_minutes' : 'mean'\n",
    "})\n",
    "\n",
    "# Return the result\n",
    "return result.to_json()\n",
    "\n",
    "```\n",
    "\n",
    "After created the endpoint, make sure to implement it to app.py file."
   ]
  },
  {
   "cell_type": "code",
   "execution_count": null,
   "id": "d24c9463-77d9-4294-b3f9-73b16391e46a",
   "metadata": {},
   "outputs": [],
   "source": [
    "# Your Code Here\n",
    "input_data = request.get_json() # Get the input as dictionary\n",
    "specified_date = input_data['2015-08'] # Select specific items (period) from the dictionary (the value will be \"2015-08\")\n"
   ]
  },
  {
   "cell_type": "markdown",
   "id": "f9d9c895",
   "metadata": {},
   "source": [
    "**TEST YOUR ENDPOINT**\n",
    "\n",
    "After implement it to `app.py` file, **test and implement** your **POST endpoint** with the following cells."
   ]
  },
  {
   "cell_type": "code",
   "execution_count": null,
   "id": "d3f1f280",
   "metadata": {},
   "outputs": [],
   "source": [
    "url = \"http://127.0.0.1:5000/trips/add\"\n",
    "res = requests.post(url, json=data_json)"
   ]
  },
  {
   "cell_type": "code",
   "execution_count": null,
   "id": "48f23b18",
   "metadata": {},
   "outputs": [],
   "source": [
    "input_data = request.get_json() # Get the input as dictionary\n"
   ]
  },
  {
   "cell_type": "code",
   "execution_count": null,
   "id": "62de313e",
   "metadata": {},
   "outputs": [],
   "source": [
    "specified_date = input_data['period'] # Select specific items (period) from the dictionary (the value will be \"2015-08\")"
   ]
  },
  {
   "cell_type": "code",
   "execution_count": null,
   "id": "2c43edba",
   "metadata": {},
   "outputs": [],
   "source": [
    "# test POST endpoint\n",
    "data = {\n",
    "    # input data\n",
    "}\n",
    "\n",
    "# post endpoint\n",
    "url = \"http://127.0.0.1:5000/<POST_endpoint>\"\n",
    "res = requests.post(url, json = data)\n",
    "\n",
    "# show code result\n",
    "res"
   ]
  },
  {
   "cell_type": "code",
   "execution_count": null,
   "id": "9043524b",
   "metadata": {},
   "outputs": [],
   "source": [
    "# show the result as dataframe\n",
    "pd.DataFrame(res.json())"
   ]
  },
  {
   "cell_type": "code",
   "execution_count": 84,
   "id": "58876a0c",
   "metadata": {},
   "outputs": [],
   "source": [
    "data = {\n",
    "    \"id\" : \"8997555\", \n",
    "    \"bikeid\" : 28,\n",
    "    \"duration_minutes\" : \"142 Hours\"\n",
    "}"
   ]
  },
  {
   "cell_type": "code",
   "execution_count": 85,
   "id": "baf83310",
   "metadata": {},
   "outputs": [],
   "source": [
    "# post endpoint\n",
    "url = \"http://127.0.0.1:5000/json\"\n",
    "res = requests.post(url, json = data)"
   ]
  },
  {
   "cell_type": "code",
   "execution_count": 86,
   "id": "429c221e",
   "metadata": {},
   "outputs": [
    {
     "data": {
      "text/plain": [
       "<Response [200]>"
      ]
     },
     "execution_count": 86,
     "metadata": {},
     "output_type": "execute_result"
    }
   ],
   "source": [
    "res"
   ]
  },
  {
   "cell_type": "code",
   "execution_count": 87,
   "id": "9100474e",
   "metadata": {},
   "outputs": [
    {
     "data": {
      "text/plain": [
       "'Hello 8997555, your bikeid is 28, and the length of your cycling time is 142 Hours\\n            '"
      ]
     },
     "execution_count": 87,
     "metadata": {},
     "output_type": "execute_result"
    }
   ],
   "source": [
    "res.text"
   ]
  },
  {
   "attachments": {},
   "cell_type": "markdown",
   "id": "46bbfb18",
   "metadata": {},
   "source": [
    "# Submission\n",
    "\n",
    "After finishing your work of all the rubrics, the next step will be;\n",
    "\n",
    "1. Prepare your `Bikeshare API.ipynb` file that has been edited with your code and wrangling data.\n",
    "2. Prepare your `app.py` file for your Flask App. Make sure you have implemented all the endpoints to `app.py` (including your custom static, dynamic and post endpoints).\n",
    "3. Submit your `Bikeshare API.ipynb` and `app.py` file in your github repository. The dataset is optional to post since it has big size to post. \n",
    "\n"
   ]
  }
 ],
 "metadata": {
  "kernelspec": {
   "display_name": "yoda_da",
   "language": "python",
   "name": "python3"
  },
  "language_info": {
   "codemirror_mode": {
    "name": "ipython",
    "version": 3
   },
   "file_extension": ".py",
   "mimetype": "text/x-python",
   "name": "python",
   "nbconvert_exporter": "python",
   "pygments_lexer": "ipython3",
   "version": "3.10.14"
  },
  "toc": {
   "base_numbering": 1,
   "nav_menu": {},
   "number_sections": true,
   "sideBar": true,
   "skip_h1_title": false,
   "title_cell": "Table of Contents",
   "title_sidebar": "Contents",
   "toc_cell": false,
   "toc_position": {},
   "toc_section_display": true,
   "toc_window_display": false
  },
  "toc-autonumbering": true
 },
 "nbformat": 4,
 "nbformat_minor": 5
}
